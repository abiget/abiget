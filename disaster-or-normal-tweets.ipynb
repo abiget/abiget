{
 "cells": [
  {
   "cell_type": "code",
   "execution_count": 1,
   "id": "f5834e7c",
   "metadata": {
    "_cell_guid": "b1076dfc-b9ad-4769-8c92-a6c4dae69d19",
    "_uuid": "8f2839f25d086af736a60e9eeb907d3b93b6e0e5",
    "execution": {
     "iopub.execute_input": "2023-06-02T21:13:35.894786Z",
     "iopub.status.busy": "2023-06-02T21:13:35.894234Z",
     "iopub.status.idle": "2023-06-02T21:13:48.878951Z",
     "shell.execute_reply": "2023-06-02T21:13:48.877745Z"
    },
    "papermill": {
     "duration": 13.003522,
     "end_time": "2023-06-02T21:13:48.882004",
     "exception": false,
     "start_time": "2023-06-02T21:13:35.878482",
     "status": "completed"
    },
    "tags": []
   },
   "outputs": [
    {
     "name": "stderr",
     "output_type": "stream",
     "text": [
      "/opt/conda/lib/python3.10/site-packages/tensorflow_io/python/ops/__init__.py:98: UserWarning: unable to load libtensorflow_io_plugins.so: unable to open file: libtensorflow_io_plugins.so, from paths: ['/opt/conda/lib/python3.10/site-packages/tensorflow_io/python/ops/libtensorflow_io_plugins.so']\n",
      "caused by: ['/opt/conda/lib/python3.10/site-packages/tensorflow_io/python/ops/libtensorflow_io_plugins.so: undefined symbol: _ZN3tsl6StatusC1EN10tensorflow5error4CodeESt17basic_string_viewIcSt11char_traitsIcEENS_14SourceLocationE']\n",
      "  warnings.warn(f\"unable to load libtensorflow_io_plugins.so: {e}\")\n",
      "/opt/conda/lib/python3.10/site-packages/tensorflow_io/python/ops/__init__.py:104: UserWarning: file system plugins are not loaded: unable to open file: libtensorflow_io.so, from paths: ['/opt/conda/lib/python3.10/site-packages/tensorflow_io/python/ops/libtensorflow_io.so']\n",
      "caused by: ['/opt/conda/lib/python3.10/site-packages/tensorflow_io/python/ops/libtensorflow_io.so: undefined symbol: _ZTVN10tensorflow13GcsFileSystemE']\n",
      "  warnings.warn(f\"file system plugins are not loaded: {e}\")\n"
     ]
    },
    {
     "name": "stdout",
     "output_type": "stream",
     "text": [
      "/kaggle/input/nlp-getting-started/sample_submission.csv\n",
      "/kaggle/input/nlp-getting-started/train.csv\n",
      "/kaggle/input/nlp-getting-started/test.csv\n"
     ]
    }
   ],
   "source": [
    "# This Python 3 environment comes with many helpful analytics libraries installed\n",
    "# It is defined by the kaggle/python Docker image: https://github.com/kaggle/docker-python\n",
    "# For example, here's several helpful packages to load\n",
    "import csv\n",
    "import numpy as np # linear algebra\n",
    "import pandas as pd\n",
    "from dataclasses import dataclass\n",
    "import tensorflow as tf\n",
    "from tensorflow import keras\n",
    "from tensorflow.keras.preprocessing.sequence import pad_sequences\n",
    "from tensorflow.keras.preprocessing.text import Tokenizer \n",
    "from matplotlib import pyplot as plt\n",
    "from nltk.corpus import stopwords\n",
    "\n",
    "# Input data files are available in the read-only \"../input/\" directory\n",
    "# For example, running this (by clicking run or pressing Shift+Enter) will list all files under the input directory\n",
    "\n",
    "import os\n",
    "for dirname, _, filenames in os.walk('/kaggle/input'):\n",
    "    for filename in filenames:\n",
    "        print(os.path.join(dirname, filename))\n",
    "\n",
    "# You can write up to 20GB to the current directory (/kaggle/working/) that gets preserved as output when you create a version using \"Save & Run All\" \n",
    "# You can also write temporary files to /kaggle/temp/, but they won't be saved outside of the current session"
   ]
  },
  {
   "cell_type": "code",
   "execution_count": 2,
   "id": "3ade5a37",
   "metadata": {
    "execution": {
     "iopub.execute_input": "2023-06-02T21:13:48.907828Z",
     "iopub.status.busy": "2023-06-02T21:13:48.906975Z",
     "iopub.status.idle": "2023-06-02T21:13:49.010077Z",
     "shell.execute_reply": "2023-06-02T21:13:49.008920Z"
    },
    "papermill": {
     "duration": 0.119413,
     "end_time": "2023-06-02T21:13:49.012936",
     "exception": false,
     "start_time": "2023-06-02T21:13:48.893523",
     "status": "completed"
    },
    "tags": []
   },
   "outputs": [],
   "source": [
    "#Load training and validation datasets\n",
    "train_df = pd.read_csv('/kaggle/input/nlp-getting-started/train.csv')\n",
    "val_sentences_df = pd.read_csv('/kaggle/input/nlp-getting-started/test.csv')\n",
    "val_label_df = pd.read_csv('/kaggle/input/nlp-getting-started/sample_submission.csv')"
   ]
  },
  {
   "cell_type": "code",
   "execution_count": 3,
   "id": "fe7f37d1",
   "metadata": {
    "execution": {
     "iopub.execute_input": "2023-06-02T21:13:49.037540Z",
     "iopub.status.busy": "2023-06-02T21:13:49.037140Z",
     "iopub.status.idle": "2023-06-02T21:13:49.054019Z",
     "shell.execute_reply": "2023-06-02T21:13:49.053161Z"
    },
    "papermill": {
     "duration": 0.031738,
     "end_time": "2023-06-02T21:13:49.056309",
     "exception": false,
     "start_time": "2023-06-02T21:13:49.024571",
     "status": "completed"
    },
    "tags": []
   },
   "outputs": [
    {
     "data": {
      "text/plain": [
       "(7613, 7613)"
      ]
     },
     "execution_count": 3,
     "metadata": {},
     "output_type": "execute_result"
    }
   ],
   "source": [
    "#Extract train sentences and labels\n",
    "train_sentences, train_labels = list(train_df['text']), list(train_df['target'])\n",
    "#number of training examples\n",
    "len(train_sentences), len(train_labels)"
   ]
  },
  {
   "cell_type": "code",
   "execution_count": 4,
   "id": "533a018a",
   "metadata": {
    "execution": {
     "iopub.execute_input": "2023-06-02T21:13:49.080943Z",
     "iopub.status.busy": "2023-06-02T21:13:49.080536Z",
     "iopub.status.idle": "2023-06-02T21:13:49.094839Z",
     "shell.execute_reply": "2023-06-02T21:13:49.093891Z"
    },
    "papermill": {
     "duration": 0.029638,
     "end_time": "2023-06-02T21:13:49.097293",
     "exception": false,
     "start_time": "2023-06-02T21:13:49.067655",
     "status": "completed"
    },
    "tags": []
   },
   "outputs": [
    {
     "data": {
      "text/plain": [
       "0    4342\n",
       "1    3271\n",
       "Name: target, dtype: int64"
      ]
     },
     "execution_count": 4,
     "metadata": {},
     "output_type": "execute_result"
    }
   ],
   "source": [
    "#no problem with this data\n",
    "train_df['target'].value_counts()"
   ]
  },
  {
   "cell_type": "code",
   "execution_count": 5,
   "id": "4332908a",
   "metadata": {
    "execution": {
     "iopub.execute_input": "2023-06-02T21:13:49.123122Z",
     "iopub.status.busy": "2023-06-02T21:13:49.122119Z",
     "iopub.status.idle": "2023-06-02T21:13:49.131743Z",
     "shell.execute_reply": "2023-06-02T21:13:49.130463Z"
    },
    "papermill": {
     "duration": 0.024855,
     "end_time": "2023-06-02T21:13:49.134301",
     "exception": false,
     "start_time": "2023-06-02T21:13:49.109446",
     "status": "completed"
    },
    "tags": []
   },
   "outputs": [
    {
     "data": {
      "text/plain": [
       "0    3263\n",
       "Name: target, dtype: int64"
      ]
     },
     "execution_count": 5,
     "metadata": {},
     "output_type": "execute_result"
    }
   ],
   "source": [
    "#one class validation data\n",
    "val_label_df['target'].value_counts()"
   ]
  },
  {
   "cell_type": "code",
   "execution_count": 6,
   "id": "52e24644",
   "metadata": {
    "execution": {
     "iopub.execute_input": "2023-06-02T21:13:49.160850Z",
     "iopub.status.busy": "2023-06-02T21:13:49.159945Z",
     "iopub.status.idle": "2023-06-02T21:13:49.168332Z",
     "shell.execute_reply": "2023-06-02T21:13:49.167044Z"
    },
    "papermill": {
     "duration": 0.025284,
     "end_time": "2023-06-02T21:13:49.171387",
     "exception": false,
     "start_time": "2023-06-02T21:13:49.146103",
     "status": "completed"
    },
    "tags": []
   },
   "outputs": [
    {
     "name": "stdout",
     "output_type": "stream",
     "text": [
      "Length of val_sentences_df: 3263 and val_label_df: 3263\n",
      "The number of different ids in two df: 0\n"
     ]
    }
   ],
   "source": [
    "#All of the ids in the two dataframes are the same\n",
    "print(f\"Length of val_sentences_df: {len(val_sentences_df['id'])} and val_label_df: {len(val_label_df['id'])}\")\n",
    "print(\"The number of different ids in two df:\", sum(val_label_df['id'] != val_sentences_df['id']))"
   ]
  },
  {
   "cell_type": "code",
   "execution_count": 7,
   "id": "52c30fe4",
   "metadata": {
    "execution": {
     "iopub.execute_input": "2023-06-02T21:13:49.198313Z",
     "iopub.status.busy": "2023-06-02T21:13:49.197455Z",
     "iopub.status.idle": "2023-06-02T21:13:49.207641Z",
     "shell.execute_reply": "2023-06-02T21:13:49.206449Z"
    },
    "papermill": {
     "duration": 0.026436,
     "end_time": "2023-06-02T21:13:49.210029",
     "exception": false,
     "start_time": "2023-06-02T21:13:49.183593",
     "status": "completed"
    },
    "tags": []
   },
   "outputs": [
    {
     "data": {
      "text/plain": [
       "(3263, 3263)"
      ]
     },
     "execution_count": 7,
     "metadata": {},
     "output_type": "execute_result"
    }
   ],
   "source": [
    "#Val sentences and labels\n",
    "val_sentences, val_labels = list(val_sentences_df['text']), list(val_label_df['target'])\n",
    "#number of training examples in validation\n",
    "len(val_sentences), len(val_labels)"
   ]
  },
  {
   "cell_type": "code",
   "execution_count": 8,
   "id": "9b6aa678",
   "metadata": {
    "execution": {
     "iopub.execute_input": "2023-06-02T21:13:49.236084Z",
     "iopub.status.busy": "2023-06-02T21:13:49.234899Z",
     "iopub.status.idle": "2023-06-02T21:13:49.242642Z",
     "shell.execute_reply": "2023-06-02T21:13:49.241715Z"
    },
    "papermill": {
     "duration": 0.023337,
     "end_time": "2023-06-02T21:13:49.245176",
     "exception": false,
     "start_time": "2023-06-02T21:13:49.221839",
     "status": "completed"
    },
    "tags": []
   },
   "outputs": [],
   "source": [
    "#Save all the global varibales in G class (Global)\n",
    "@dataclass\n",
    "class G:\n",
    "    BATCH_SIZE = 32\n",
    "    TRAIN_SIZE = len(train_sentences)\n",
    "    VAL_SIZE = len(val_sentences)\n",
    "    EPOCHS = 20 \n",
    "    #at least size of training\n",
    "    SHUFFLE_BUFFER_SIZE = 3300\n",
    "    EMBEDDING_DIM = 100\n",
    "    TRUNCATING = 'post'\n",
    "    PADDING = 'post'\n",
    "    OOV_TOKEN = '<OOV>'\n",
    "    MAXLEN = 20 \n",
    "    \n",
    "    CLASS_LABELS = {1: \"Disaster\",\n",
    "                    0 :\"Normal\"}"
   ]
  },
  {
   "cell_type": "code",
   "execution_count": 9,
   "id": "aa531371",
   "metadata": {
    "execution": {
     "iopub.execute_input": "2023-06-02T21:13:49.272003Z",
     "iopub.status.busy": "2023-06-02T21:13:49.270806Z",
     "iopub.status.idle": "2023-06-02T21:13:49.283400Z",
     "shell.execute_reply": "2023-06-02T21:13:49.282244Z"
    },
    "papermill": {
     "duration": 0.029781,
     "end_time": "2023-06-02T21:13:49.286676",
     "exception": false,
     "start_time": "2023-06-02T21:13:49.256895",
     "status": "completed"
    },
    "tags": []
   },
   "outputs": [],
   "source": [
    "#Convert train and val sentences into lower case\n",
    "train_sentences = [sentence.lower() for sentence in train_sentences]\n",
    "val_sentences = [sentence.lower() for sentence in val_sentences]"
   ]
  },
  {
   "cell_type": "code",
   "execution_count": 10,
   "id": "16eb9d64",
   "metadata": {
    "execution": {
     "iopub.execute_input": "2023-06-02T21:13:49.313435Z",
     "iopub.status.busy": "2023-06-02T21:13:49.312182Z",
     "iopub.status.idle": "2023-06-02T21:13:49.320831Z",
     "shell.execute_reply": "2023-06-02T21:13:49.319450Z"
    },
    "papermill": {
     "duration": 0.024691,
     "end_time": "2023-06-02T21:13:49.323506",
     "exception": false,
     "start_time": "2023-06-02T21:13:49.298815",
     "status": "completed"
    },
    "tags": []
   },
   "outputs": [
    {
     "data": {
      "text/plain": [
       "('our deeds are the reason of this #earthquake may allah forgive us all',\n",
       " 'just happened a terrible car crash')"
      ]
     },
     "execution_count": 10,
     "metadata": {},
     "output_type": "execute_result"
    }
   ],
   "source": [
    "#Sample sentences from train and val\n",
    "train_sentences[0], val_sentences[0]"
   ]
  },
  {
   "cell_type": "code",
   "execution_count": 11,
   "id": "96f74280",
   "metadata": {
    "execution": {
     "iopub.execute_input": "2023-06-02T21:13:49.350085Z",
     "iopub.status.busy": "2023-06-02T21:13:49.349659Z",
     "iopub.status.idle": "2023-06-02T21:13:49.356365Z",
     "shell.execute_reply": "2023-06-02T21:13:49.355114Z"
    },
    "papermill": {
     "duration": 0.023599,
     "end_time": "2023-06-02T21:13:49.359232",
     "exception": false,
     "start_time": "2023-06-02T21:13:49.335633",
     "status": "completed"
    },
    "tags": []
   },
   "outputs": [],
   "source": [
    "def remove_stopwords(sentence):\n",
    "    \"\"\"\n",
    "    Remove stopwords from each sentence\n",
    "    Args:\n",
    "        sentence (string) : a row of sentence from a list\n",
    "    \n",
    "    Returns:\n",
    "        sentence without stopwords\n",
    "    \"\"\"\n",
    "    word_list = sentence.split(\" \")\n",
    "    return \" \".join([word for word in word_list if word not in stopwords.words('english')])\n",
    "        "
   ]
  },
  {
   "cell_type": "code",
   "execution_count": 12,
   "id": "3af2c174",
   "metadata": {
    "execution": {
     "iopub.execute_input": "2023-06-02T21:13:49.385730Z",
     "iopub.status.busy": "2023-06-02T21:13:49.385345Z",
     "iopub.status.idle": "2023-06-02T21:14:11.979829Z",
     "shell.execute_reply": "2023-06-02T21:14:11.978693Z"
    },
    "papermill": {
     "duration": 22.611317,
     "end_time": "2023-06-02T21:14:11.982701",
     "exception": false,
     "start_time": "2023-06-02T21:13:49.371384",
     "status": "completed"
    },
    "tags": []
   },
   "outputs": [],
   "source": [
    "#Remove stopwords from train and val sentences\n",
    "train_sentences_without_stopwords = list(map(remove_stopwords, train_sentences))\n",
    "val_sentences_without_stopwords = list(map(remove_stopwords, val_sentences))"
   ]
  },
  {
   "cell_type": "code",
   "execution_count": 13,
   "id": "fc03e8db",
   "metadata": {
    "execution": {
     "iopub.execute_input": "2023-06-02T21:14:12.008473Z",
     "iopub.status.busy": "2023-06-02T21:14:12.008045Z",
     "iopub.status.idle": "2023-06-02T21:14:12.014461Z",
     "shell.execute_reply": "2023-06-02T21:14:12.013378Z"
    },
    "papermill": {
     "duration": 0.022211,
     "end_time": "2023-06-02T21:14:12.016874",
     "exception": false,
     "start_time": "2023-06-02T21:14:11.994663",
     "status": "completed"
    },
    "tags": []
   },
   "outputs": [
    {
     "name": "stdout",
     "output_type": "stream",
     "text": [
      "deeds reason #earthquake may allah forgive us happened terrible car crash\n",
      "7613 3263\n"
     ]
    }
   ],
   "source": [
    "#Sample sentences after remove_stopwords operation\n",
    "print(train_sentences_without_stopwords[0], val_sentences_without_stopwords[0])\n",
    "print(len(train_sentences_without_stopwords), len(val_sentences_without_stopwords)) "
   ]
  },
  {
   "cell_type": "code",
   "execution_count": 14,
   "id": "27c236d4",
   "metadata": {
    "execution": {
     "iopub.execute_input": "2023-06-02T21:14:12.043017Z",
     "iopub.status.busy": "2023-06-02T21:14:12.042135Z",
     "iopub.status.idle": "2023-06-02T21:14:12.050139Z",
     "shell.execute_reply": "2023-06-02T21:14:12.049094Z"
    },
    "papermill": {
     "duration": 0.024305,
     "end_time": "2023-06-02T21:14:12.053084",
     "exception": false,
     "start_time": "2023-06-02T21:14:12.028779",
     "status": "completed"
    },
    "tags": []
   },
   "outputs": [],
   "source": [
    "train_sentence_count = np.array([len(sentence) for sentence in train_sentences_without_stopwords])\n",
    "val_sentence_count = np.array([len(sentence) for sentence in val_sentences_without_stopwords])"
   ]
  },
  {
   "cell_type": "code",
   "execution_count": 15,
   "id": "0a3afa83",
   "metadata": {
    "execution": {
     "iopub.execute_input": "2023-06-02T21:14:12.079176Z",
     "iopub.status.busy": "2023-06-02T21:14:12.078758Z",
     "iopub.status.idle": "2023-06-02T21:14:12.093086Z",
     "shell.execute_reply": "2023-06-02T21:14:12.091866Z"
    },
    "papermill": {
     "duration": 0.031075,
     "end_time": "2023-06-02T21:14:12.096407",
     "exception": false,
     "start_time": "2023-06-02T21:14:12.065332",
     "status": "completed"
    },
    "tags": []
   },
   "outputs": [
    {
     "name": "stdout",
     "output_type": "stream",
     "text": [
      "The number of empty sentences in train: 0\n",
      "The number of empty sentences in val 0\n",
      "'Training' max-length sentence: 145 and min-length sentence: 4\n",
      "'Validation' max-length sentence: 146 and min-length sentence: 4\n"
     ]
    }
   ],
   "source": [
    "print(\"The number of empty sentences in train:\", sum(train_sentence_count == 0))\n",
    "print(\"The number of empty sentences in val\", sum(val_sentence_count == 0))\n",
    "print(f\"'Training' max-length sentence: {max(train_sentence_count)} and min-length sentence: {min(train_sentence_count)}\")\n",
    "print(f\"'Validation' max-length sentence: {max(val_sentence_count)} and min-length sentence: {min(val_sentence_count)}\")"
   ]
  },
  {
   "cell_type": "code",
   "execution_count": 16,
   "id": "62d1f8c7",
   "metadata": {
    "execution": {
     "iopub.execute_input": "2023-06-02T21:14:12.122278Z",
     "iopub.status.busy": "2023-06-02T21:14:12.121858Z",
     "iopub.status.idle": "2023-06-02T21:14:12.128162Z",
     "shell.execute_reply": "2023-06-02T21:14:12.126834Z"
    },
    "papermill": {
     "duration": 0.022198,
     "end_time": "2023-06-02T21:14:12.130552",
     "exception": false,
     "start_time": "2023-06-02T21:14:12.108354",
     "status": "completed"
    },
    "tags": []
   },
   "outputs": [],
   "source": [
    "def fit_tokenizer(train_sentences, oov_token):\n",
    "    \"\"\"\n",
    "    Instantiate the tokenizer class with the given training sentences\n",
    "    \n",
    "    Args:\n",
    "        train_sentences (list of string) : lower-cased sentences without stop words to be used for training\n",
    "        oov_token (string) : symbole for out of vocabulary words\n",
    "    \n",
    "    Returns:\n",
    "        tokenizer (object) : an instance of the Tokenizer class containing index-word dictionary\n",
    "    \"\"\"\n",
    "    #instantiate the tokenizer object \n",
    "    tokenizer = Tokenizer(oov_token=oov_token)\n",
    "    #fit the tokenizer with training sentences\n",
    "    tokenizer.fit_on_texts(train_sentences)\n",
    "    return tokenizer"
   ]
  },
  {
   "cell_type": "code",
   "execution_count": 17,
   "id": "94cb5dbf",
   "metadata": {
    "execution": {
     "iopub.execute_input": "2023-06-02T21:14:12.156615Z",
     "iopub.status.busy": "2023-06-02T21:14:12.156229Z",
     "iopub.status.idle": "2023-06-02T21:14:12.423029Z",
     "shell.execute_reply": "2023-06-02T21:14:12.421793Z"
    },
    "papermill": {
     "duration": 0.283131,
     "end_time": "2023-06-02T21:14:12.425704",
     "exception": false,
     "start_time": "2023-06-02T21:14:12.142573",
     "status": "completed"
    },
    "tags": []
   },
   "outputs": [
    {
     "name": "stdout",
     "output_type": "stream",
     "text": [
      "Vocabulary contains 22674 words\n",
      "\n",
      "<oov> included in the vocabulary\n"
     ]
    }
   ],
   "source": [
    "tokenizer = fit_tokenizer(train_sentences_without_stopwords, G.OOV_TOKEN)\n",
    "word_index = tokenizer.word_index\n",
    "VOCAB_SIZE = len(word_index)\n",
    "\n",
    "print(f\"Vocabulary contains {VOCAB_SIZE} words\\n\")\n",
    "print(\"<oov> included in the vocabulary\" if '<OOV>' in word_index else \"<OOV> not included in the vocabulary\")"
   ]
  },
  {
   "cell_type": "code",
   "execution_count": 18,
   "id": "cb77ec23",
   "metadata": {
    "execution": {
     "iopub.execute_input": "2023-06-02T21:14:12.452176Z",
     "iopub.status.busy": "2023-06-02T21:14:12.451376Z",
     "iopub.status.idle": "2023-06-02T21:14:12.458836Z",
     "shell.execute_reply": "2023-06-02T21:14:12.457846Z"
    },
    "papermill": {
     "duration": 0.023268,
     "end_time": "2023-06-02T21:14:12.461143",
     "exception": false,
     "start_time": "2023-06-02T21:14:12.437875",
     "status": "completed"
    },
    "tags": []
   },
   "outputs": [],
   "source": [
    "def seq_pad_and_truncate(sentences, tokenizer, padding, truncating, maxlen):\n",
    "    \"\"\"\n",
    "    Generate an array of sequences based on the tokenizer and pad them\n",
    "    \n",
    "    Args:\n",
    "        sentences (list of string): sentences to be converted to token sequences and pad\n",
    "        tokenizer (object): an instance of tokenizer object fitted on training sentences\n",
    "        padding (string): type of padding to use\n",
    "        truncating (string): type of truncating to use\n",
    "        maxlen (int): the maximum length of each sequences\n",
    "    \n",
    "    Returns:\n",
    "        pad_trunc_sequences (array of int): tokenized sentences padded and truncate to the same length\n",
    "    \"\"\"\n",
    "    sequences = tokenizer.texts_to_sequences(sentences)\n",
    "    pad_trunc_sequences = pad_sequences(sequences, padding=padding, truncating=truncating, maxlen=maxlen)\n",
    "    return pad_trunc_sequences"
   ]
  },
  {
   "cell_type": "code",
   "execution_count": 19,
   "id": "2b2314c0",
   "metadata": {
    "execution": {
     "iopub.execute_input": "2023-06-02T21:14:12.487452Z",
     "iopub.status.busy": "2023-06-02T21:14:12.487060Z",
     "iopub.status.idle": "2023-06-02T21:14:12.785413Z",
     "shell.execute_reply": "2023-06-02T21:14:12.784241Z"
    },
    "papermill": {
     "duration": 0.315531,
     "end_time": "2023-06-02T21:14:12.788780",
     "exception": false,
     "start_time": "2023-06-02T21:14:12.473249",
     "status": "completed"
    },
    "tags": []
   },
   "outputs": [],
   "source": [
    "train_pad_trunc_seq = seq_pad_and_truncate(train_sentences_without_stopwords, tokenizer, G.PADDING, G.TRUNCATING, G.MAXLEN)\n",
    "val_pad_trunc_seq = seq_pad_and_truncate(val_sentences_without_stopwords, tokenizer, G.PADDING, G.TRUNCATING, G.MAXLEN)\n",
    "train_labels = np.array(train_labels)\n",
    "val_labels = np.array(val_labels)"
   ]
  },
  {
   "cell_type": "code",
   "execution_count": 20,
   "id": "9f766d58",
   "metadata": {
    "execution": {
     "iopub.execute_input": "2023-06-02T21:14:12.816965Z",
     "iopub.status.busy": "2023-06-02T21:14:12.815853Z",
     "iopub.status.idle": "2023-06-02T21:14:12.826059Z",
     "shell.execute_reply": "2023-06-02T21:14:12.824933Z"
    },
    "papermill": {
     "duration": 0.027195,
     "end_time": "2023-06-02T21:14:12.828647",
     "exception": false,
     "start_time": "2023-06-02T21:14:12.801452",
     "status": "completed"
    },
    "tags": []
   },
   "outputs": [],
   "source": [
    "def create_uncompiled_model():\n",
    "    \"\"\"\n",
    "    Creates binary sentiment classifier\n",
    "    \n",
    "    Args:\n",
    "        vocab_size (int): size of vocabulary\n",
    "        embedding_dim (int): dimension of the embedding vector\n",
    "        maxlen (int): length of input sequences\n",
    "        embedding_matrix (array): represenation of words\n",
    "    \n",
    "    Returns:\n",
    "        model (tf.keras.Model): sentiment classifier model\n",
    "    \"\"\"\n",
    "    model = keras.Sequential([\n",
    "        #usig pre-trained embeddings\n",
    "        keras.layers.Embedding(VOCAB_SIZE+1, G.EMBEDDING_DIM, input_length=G.MAXLEN),\n",
    "        keras.layers.Bidirectional(keras.layers.LSTM(64, return_sequences=True)),\n",
    "        keras.layers.Bidirectional(keras.layers.LSTM(64, return_sequences=True)),\n",
    "        keras.layers.Bidirectional(keras.layers.LSTM(32)),\n",
    "        keras.layers.Dense(64, activation='relu'),\n",
    "        keras.layers.Dense(32, activation='relu'),\n",
    "        keras.layers.Dropout(0.2),\n",
    "        keras.layers.Dense(1, activation='sigmoid')\n",
    "    ])\n",
    "    \n",
    "    return model"
   ]
  },
  {
   "cell_type": "markdown",
   "id": "6354de2f",
   "metadata": {
    "papermill": {
     "duration": 0.011628,
     "end_time": "2023-06-02T21:14:12.852605",
     "exception": false,
     "start_time": "2023-06-02T21:14:12.840977",
     "status": "completed"
    },
    "tags": []
   },
   "source": [
    "# **The validation set is a one class set so the evaluation is not fair way to be frank**"
   ]
  },
  {
   "cell_type": "code",
   "execution_count": 21,
   "id": "b3de32b0",
   "metadata": {
    "execution": {
     "iopub.execute_input": "2023-06-02T21:14:12.879177Z",
     "iopub.status.busy": "2023-06-02T21:14:12.878710Z",
     "iopub.status.idle": "2023-06-02T21:14:12.885675Z",
     "shell.execute_reply": "2023-06-02T21:14:12.884408Z"
    },
    "papermill": {
     "duration": 0.023306,
     "end_time": "2023-06-02T21:14:12.888019",
     "exception": false,
     "start_time": "2023-06-02T21:14:12.864713",
     "status": "completed"
    },
    "tags": []
   },
   "outputs": [],
   "source": [
    "def adujst_learnig_rate_model():\n",
    "    model = create_uncompiled_model()\n",
    "    lr_schedule = keras.callbacks.LearningRateScheduler(lambda epoch: 1e-6 * 10**(epoch / 20))\n",
    "    model.compile(loss='binary_crossentropy',\n",
    "                  optimizer=keras.optimizers.Adam(),\n",
    "                  metrics=['accuracy'])\n",
    "    history = model.fit(train_pad_trunc_seq, train_labels, batch_size=G.BATCH_SIZE, epochs=G.EPOCHS, callbacks=[lr_schedule])\n",
    "    return history"
   ]
  },
  {
   "cell_type": "code",
   "execution_count": 22,
   "id": "06472ef4",
   "metadata": {
    "execution": {
     "iopub.execute_input": "2023-06-02T21:14:12.914086Z",
     "iopub.status.busy": "2023-06-02T21:14:12.913623Z",
     "iopub.status.idle": "2023-06-02T21:21:08.614503Z",
     "shell.execute_reply": "2023-06-02T21:21:08.613476Z"
    },
    "papermill": {
     "duration": 415.717468,
     "end_time": "2023-06-02T21:21:08.617631",
     "exception": false,
     "start_time": "2023-06-02T21:14:12.900163",
     "status": "completed"
    },
    "tags": []
   },
   "outputs": [
    {
     "name": "stdout",
     "output_type": "stream",
     "text": [
      "Epoch 1/20\n",
      "238/238 [==============================] - 34s 85ms/step - loss: 0.6922 - accuracy: 0.5707 - lr: 1.0000e-06\n",
      "Epoch 2/20\n",
      "238/238 [==============================] - 20s 83ms/step - loss: 0.6917 - accuracy: 0.5757 - lr: 1.1220e-06\n",
      "Epoch 3/20\n",
      "238/238 [==============================] - 20s 82ms/step - loss: 0.6911 - accuracy: 0.5720 - lr: 1.2589e-06\n",
      "Epoch 4/20\n",
      "238/238 [==============================] - 20s 82ms/step - loss: 0.6905 - accuracy: 0.5713 - lr: 1.4125e-06\n",
      "Epoch 5/20\n",
      "238/238 [==============================] - 19s 82ms/step - loss: 0.6898 - accuracy: 0.5710 - lr: 1.5849e-06\n",
      "Epoch 6/20\n",
      "238/238 [==============================] - 19s 81ms/step - loss: 0.6889 - accuracy: 0.5710 - lr: 1.7783e-06\n",
      "Epoch 7/20\n",
      "238/238 [==============================] - 20s 86ms/step - loss: 0.6877 - accuracy: 0.5709 - lr: 1.9953e-06\n",
      "Epoch 8/20\n",
      "238/238 [==============================] - 20s 86ms/step - loss: 0.6858 - accuracy: 0.5702 - lr: 2.2387e-06\n",
      "Epoch 9/20\n",
      "238/238 [==============================] - 20s 83ms/step - loss: 0.6832 - accuracy: 0.5703 - lr: 2.5119e-06\n",
      "Epoch 10/20\n",
      "238/238 [==============================] - 20s 85ms/step - loss: 0.6789 - accuracy: 0.5703 - lr: 2.8184e-06\n",
      "Epoch 11/20\n",
      "238/238 [==============================] - 20s 84ms/step - loss: 0.6735 - accuracy: 0.5705 - lr: 3.1623e-06\n",
      "Epoch 12/20\n",
      "238/238 [==============================] - 20s 83ms/step - loss: 0.6662 - accuracy: 0.5703 - lr: 3.5481e-06\n",
      "Epoch 13/20\n",
      "238/238 [==============================] - 20s 83ms/step - loss: 0.6587 - accuracy: 0.5738 - lr: 3.9811e-06\n",
      "Epoch 14/20\n",
      "238/238 [==============================] - 20s 82ms/step - loss: 0.6525 - accuracy: 0.5875 - lr: 4.4668e-06\n",
      "Epoch 15/20\n",
      "238/238 [==============================] - 20s 83ms/step - loss: 0.6451 - accuracy: 0.6129 - lr: 5.0119e-06\n",
      "Epoch 16/20\n",
      "238/238 [==============================] - 20s 83ms/step - loss: 0.6387 - accuracy: 0.6442 - lr: 5.6234e-06\n",
      "Epoch 17/20\n",
      "238/238 [==============================] - 20s 84ms/step - loss: 0.6290 - accuracy: 0.6741 - lr: 6.3096e-06\n",
      "Epoch 18/20\n",
      "238/238 [==============================] - 21s 87ms/step - loss: 0.6143 - accuracy: 0.7133 - lr: 7.0795e-06\n",
      "Epoch 19/20\n",
      "238/238 [==============================] - 21s 88ms/step - loss: 0.5886 - accuracy: 0.7529 - lr: 7.9433e-06\n",
      "Epoch 20/20\n",
      "238/238 [==============================] - 20s 83ms/step - loss: 0.5401 - accuracy: 0.7939 - lr: 8.9125e-06\n"
     ]
    }
   ],
   "source": [
    "lr_history = adujst_learnig_rate_model()"
   ]
  },
  {
   "cell_type": "code",
   "execution_count": 23,
   "id": "a4895917",
   "metadata": {
    "execution": {
     "iopub.execute_input": "2023-06-02T21:21:09.514598Z",
     "iopub.status.busy": "2023-06-02T21:21:09.514194Z",
     "iopub.status.idle": "2023-06-02T21:21:10.140587Z",
     "shell.execute_reply": "2023-06-02T21:21:10.139304Z"
    },
    "papermill": {
     "duration": 1.077529,
     "end_time": "2023-06-02T21:21:10.143278",
     "exception": false,
     "start_time": "2023-06-02T21:21:09.065749",
     "status": "completed"
    },
    "tags": []
   },
   "outputs": [
    {
     "data": {
      "text/plain": [
       "(1e-06, 0.0001, 0.0, 1.0)"
      ]
     },
     "execution_count": 23,
     "metadata": {},
     "output_type": "execute_result"
    },
    {
     "data": {
      "image/png": "[encoded data removed]",
      "text/plain": [
       "<Figure size 640x480 with 1 Axes>"
      ]
     },
     "metadata": {},
     "output_type": "display_data"
    }
   ],
   "source": [
    "#Plot learning rate vs loss\n",
    "plt.semilogx(lr_history.history['lr'], lr_history.history['loss'])\n",
    "plt.axis(plt.axis([1e-6, 1e-4, 0, 1]))"
   ]
  },
  {
   "cell_type": "code",
   "execution_count": 24,
   "id": "e8e10f0f",
   "metadata": {
    "execution": {
     "iopub.execute_input": "2023-06-02T21:21:11.124234Z",
     "iopub.status.busy": "2023-06-02T21:21:11.123381Z",
     "iopub.status.idle": "2023-06-02T21:21:11.130103Z",
     "shell.execute_reply": "2023-06-02T21:21:11.129132Z"
    },
    "papermill": {
     "duration": 0.457467,
     "end_time": "2023-06-02T21:21:11.132783",
     "exception": false,
     "start_time": "2023-06-02T21:21:10.675316",
     "status": "completed"
    },
    "tags": []
   },
   "outputs": [],
   "source": [
    "def create_model():\n",
    "    model = create_uncompiled_model()\n",
    "    model.compile(loss='binary_crossentropy',\n",
    "                  optimizer=keras.optimizers.Adam(learning_rate=1e-5),\n",
    "                  metrics=['accuracy'])\n",
    "    return model"
   ]
  },
  {
   "cell_type": "code",
   "execution_count": 25,
   "id": "f03feb2b",
   "metadata": {
    "execution": {
     "iopub.execute_input": "2023-06-02T21:21:12.032027Z",
     "iopub.status.busy": "2023-06-02T21:21:12.031183Z",
     "iopub.status.idle": "2023-06-02T21:28:49.412618Z",
     "shell.execute_reply": "2023-06-02T21:28:49.411089Z"
    },
    "papermill": {
     "duration": 457.833187,
     "end_time": "2023-06-02T21:28:49.416149",
     "exception": false,
     "start_time": "2023-06-02T21:21:11.582962",
     "status": "completed"
    },
    "tags": []
   },
   "outputs": [
    {
     "name": "stdout",
     "output_type": "stream",
     "text": [
      "Epoch 1/20\n",
      "238/238 [==============================] - 35s 89ms/step - loss: 0.6920 - accuracy: 0.5517\n",
      "Epoch 2/20\n",
      "238/238 [==============================] - 21s 86ms/step - loss: 0.6863 - accuracy: 0.5706\n",
      "Epoch 3/20\n",
      "238/238 [==============================] - 21s 89ms/step - loss: 0.6729 - accuracy: 0.5705\n",
      "Epoch 4/20\n",
      "238/238 [==============================] - 20s 86ms/step - loss: 0.6559 - accuracy: 0.5814\n",
      "Epoch 5/20\n",
      "238/238 [==============================] - 20s 84ms/step - loss: 0.6418 - accuracy: 0.6356\n",
      "Epoch 6/20\n",
      "238/238 [==============================] - 20s 85ms/step - loss: 0.6255 - accuracy: 0.6893\n",
      "Epoch 7/20\n",
      "238/238 [==============================] - 20s 85ms/step - loss: 0.5982 - accuracy: 0.7404\n",
      "Epoch 8/20\n",
      "238/238 [==============================] - 20s 86ms/step - loss: 0.5366 - accuracy: 0.7935\n",
      "Epoch 9/20\n",
      "238/238 [==============================] - 21s 87ms/step - loss: 0.4529 - accuracy: 0.8303\n",
      "Epoch 10/20\n",
      "238/238 [==============================] - 20s 84ms/step - loss: 0.3908 - accuracy: 0.8530\n",
      "Epoch 11/20\n",
      "238/238 [==============================] - 20s 84ms/step - loss: 0.3514 - accuracy: 0.8734\n",
      "Epoch 12/20\n",
      "238/238 [==============================] - 20s 86ms/step - loss: 0.3234 - accuracy: 0.8874\n",
      "Epoch 13/20\n",
      "238/238 [==============================] - 20s 84ms/step - loss: 0.2979 - accuracy: 0.8966\n",
      "Epoch 14/20\n",
      "238/238 [==============================] - 20s 85ms/step - loss: 0.2752 - accuracy: 0.9060\n",
      "Epoch 15/20\n",
      "238/238 [==============================] - 20s 86ms/step - loss: 0.2573 - accuracy: 0.9142\n",
      "Epoch 16/20\n",
      "238/238 [==============================] - 20s 85ms/step - loss: 0.2362 - accuracy: 0.9222\n",
      "Epoch 17/20\n",
      "238/238 [==============================] - 20s 85ms/step - loss: 0.2230 - accuracy: 0.9285\n",
      "Epoch 18/20\n",
      "238/238 [==============================] - 21s 86ms/step - loss: 0.2081 - accuracy: 0.9351\n",
      "Epoch 19/20\n",
      "238/238 [==============================] - 20s 86ms/step - loss: 0.1939 - accuracy: 0.9406\n",
      "Epoch 20/20\n",
      "238/238 [==============================] - 20s 86ms/step - loss: 0.1793 - accuracy: 0.9464\n"
     ]
    }
   ],
   "source": [
    "model = create_model()\n",
    "history = model.fit(x=train_pad_trunc_seq, y=train_labels,\n",
    "          batch_size=G.BATCH_SIZE, epochs=G.EPOCHS, shuffle=True)"
   ]
  },
  {
   "cell_type": "code",
   "execution_count": 26,
   "id": "be7028f7",
   "metadata": {
    "execution": {
     "iopub.execute_input": "2023-06-02T21:28:51.319005Z",
     "iopub.status.busy": "2023-06-02T21:28:51.317765Z",
     "iopub.status.idle": "2023-06-02T21:28:51.323851Z",
     "shell.execute_reply": "2023-06-02T21:28:51.322944Z"
    },
    "papermill": {
     "duration": 0.892588,
     "end_time": "2023-06-02T21:28:51.326468",
     "exception": false,
     "start_time": "2023-06-02T21:28:50.433880",
     "status": "completed"
    },
    "tags": []
   },
   "outputs": [],
   "source": [
    "#ploting function \n",
    "def plot_results(epochs, train, message):\n",
    "    plt.plot(epochs, train)\n",
    "    plt.xlabel('Epochs')\n",
    "    plt.ylabel(f\"{message}\")\n",
    "    plt.show()"
   ]
  },
  {
   "cell_type": "code",
   "execution_count": 27,
   "id": "0fa8ea89",
   "metadata": {
    "execution": {
     "iopub.execute_input": "2023-06-02T21:28:53.214441Z",
     "iopub.status.busy": "2023-06-02T21:28:53.214037Z",
     "iopub.status.idle": "2023-06-02T21:28:53.788755Z",
     "shell.execute_reply": "2023-06-02T21:28:53.787604Z"
    },
    "papermill": {
     "duration": 1.583049,
     "end_time": "2023-06-02T21:28:53.791845",
     "exception": false,
     "start_time": "2023-06-02T21:28:52.208796",
     "status": "completed"
    },
    "tags": []
   },
   "outputs": [
    {
     "data": {
      "image/png": "[encoded data removed]",
      "text/plain": [
       "<Figure size 640x480 with 1 Axes>"
      ]
     },
     "metadata": {},
     "output_type": "display_data"
    },
    {
     "data": {
      "image/png": "[encoded data removed]",
      "text/plain": [
       "<Figure size 640x480 with 1 Axes>"
      ]
     },
     "metadata": {},
     "output_type": "display_data"
    }
   ],
   "source": [
    "#Plot loss and accuracy over the specidied epochs\n",
    "epochs = [*range(G.EPOCHS)]\n",
    "loss = history.history['loss']\n",
    "plot_results(epochs, loss, \"Loss\")\n",
    "\n",
    "acc = history.history['accuracy']\n",
    "plot_results(epochs, acc, \"Accuracy\")"
   ]
  },
  {
   "cell_type": "code",
   "execution_count": 28,
   "id": "11f22af1",
   "metadata": {
    "execution": {
     "iopub.execute_input": "2023-06-02T21:28:55.656428Z",
     "iopub.status.busy": "2023-06-02T21:28:55.655446Z",
     "iopub.status.idle": "2023-06-02T21:28:55.663708Z",
     "shell.execute_reply": "2023-06-02T21:28:55.662098Z"
    },
    "papermill": {
     "duration": 0.990271,
     "end_time": "2023-06-02T21:28:55.666825",
     "exception": false,
     "start_time": "2023-06-02T21:28:54.676554",
     "status": "completed"
    },
    "tags": []
   },
   "outputs": [],
   "source": [
    "def predict(model, val_pad_trunc_seq, batch_size):\n",
    "    predictions = []\n",
    "    prediction_probas = model.predict(val_pad_trunc_seq, batch_size=batch_size).squeeze()\n",
    "    for prediction_proba in prediction_probas:\n",
    "        if prediction_proba > 0.5:\n",
    "            predictions.append(1)\n",
    "        else:\n",
    "            predictions.append(0)\n",
    "    return np.array(predictions)"
   ]
  },
  {
   "cell_type": "code",
   "execution_count": 29,
   "id": "bc36ae72",
   "metadata": {
    "execution": {
     "iopub.execute_input": "2023-06-02T21:28:57.470955Z",
     "iopub.status.busy": "2023-06-02T21:28:57.470321Z",
     "iopub.status.idle": "2023-06-02T21:29:02.507820Z",
     "shell.execute_reply": "2023-06-02T21:29:02.506384Z"
    },
    "papermill": {
     "duration": 5.96372,
     "end_time": "2023-06-02T21:29:02.510367",
     "exception": false,
     "start_time": "2023-06-02T21:28:56.546647",
     "status": "completed"
    },
    "tags": []
   },
   "outputs": [
    {
     "name": "stdout",
     "output_type": "stream",
     "text": [
      "102/102 [==============================] - 4s 17ms/step\n",
      "The model has predicted 1491 correctly out of 3263 examples\n"
     ]
    }
   ],
   "source": [
    "#Despite the val(test) set is uniclass (i.e the data contains only 0 class)\n",
    "predictions = predict(model, val_pad_trunc_seq, G.BATCH_SIZE)\n",
    "print(\"The model has predicted {} correctly out of {} examples\".format(sum(predictions == val_labels), len(val_labels)))"
   ]
  },
  {
   "cell_type": "code",
   "execution_count": 30,
   "id": "3d42f315",
   "metadata": {
    "execution": {
     "iopub.execute_input": "2023-06-02T21:29:04.356256Z",
     "iopub.status.busy": "2023-06-02T21:29:04.355062Z",
     "iopub.status.idle": "2023-06-02T21:29:04.362855Z",
     "shell.execute_reply": "2023-06-02T21:29:04.361611Z"
    },
    "papermill": {
     "duration": 0.897894,
     "end_time": "2023-06-02T21:29:04.365712",
     "exception": false,
     "start_time": "2023-06-02T21:29:03.467818",
     "status": "completed"
    },
    "tags": []
   },
   "outputs": [
    {
     "data": {
      "text/plain": [
       "1772"
      ]
     },
     "execution_count": 30,
     "metadata": {},
     "output_type": "execute_result"
    }
   ],
   "source": [
    "#number of incorrectly predicted tweets\n",
    "len(val_pad_trunc_seq[predictions!=val_labels])"
   ]
  },
  {
   "cell_type": "code",
   "execution_count": 31,
   "id": "be9a7d43",
   "metadata": {
    "execution": {
     "iopub.execute_input": "2023-06-02T21:29:06.213834Z",
     "iopub.status.busy": "2023-06-02T21:29:06.212520Z",
     "iopub.status.idle": "2023-06-02T21:29:06.218920Z",
     "shell.execute_reply": "2023-06-02T21:29:06.217720Z"
    },
    "papermill": {
     "duration": 0.972292,
     "end_time": "2023-06-02T21:29:06.221772",
     "exception": false,
     "start_time": "2023-06-02T21:29:05.249480",
     "status": "completed"
    },
    "tags": []
   },
   "outputs": [],
   "source": [
    "incorect_prediction_index = np.arange(0, len(predictions))[predictions != val_labels]"
   ]
  },
  {
   "cell_type": "code",
   "execution_count": 32,
   "id": "307c3a70",
   "metadata": {
    "execution": {
     "iopub.execute_input": "2023-06-02T21:29:08.044963Z",
     "iopub.status.busy": "2023-06-02T21:29:08.043716Z",
     "iopub.status.idle": "2023-06-02T21:29:08.395358Z",
     "shell.execute_reply": "2023-06-02T21:29:08.394091Z"
    },
    "papermill": {
     "duration": 1.2806,
     "end_time": "2023-06-02T21:29:08.397908",
     "exception": false,
     "start_time": "2023-06-02T21:29:07.117308",
     "status": "completed"
    },
    "tags": []
   },
   "outputs": [
    {
     "name": "stdout",
     "output_type": "stream",
     "text": [
      "tweet: typhoon soudelor kills 28 china taiwan <OOV> <OOV> <OOV> <OOV> <OOV> <OOV> <OOV> <OOV> <OOV> <OOV> <OOV> <OOV> <OOV> <OOV>\n",
      "predicted label: Disaster tweet.\n",
      "Actual label: Normal tweet.\n",
      "\n",
      "\n",
      "\n",
      "tweet: brooo got annihilated https t co <OOV> <OOV> <OOV> <OOV> <OOV> <OOV> <OOV> <OOV> <OOV> <OOV> <OOV> <OOV> <OOV> <OOV>\n",
      "predicted label: Normal tweet.\n",
      "Actual label: Normal tweet.\n"
     ]
    }
   ],
   "source": [
    "#sample incorrect predictions \n",
    "sample_index = 2\n",
    "print(f\"tweet: {tokenizer.sequences_to_texts(val_pad_trunc_seq)[incorect_prediction_index[sample_index]]}\")\n",
    "print(f\"predicted label: {G.CLASS_LABELS[predictions[incorect_prediction_index[sample_index]]]} tweet.\")\n",
    "print(f\"Actual label: {G.CLASS_LABELS[val_labels[incorect_prediction_index[sample_index]]]} tweet.\")\n",
    "\n",
    "print('\\n\\n')\n",
    "\n",
    "sample_index = 100\n",
    "print(f\"tweet: {tokenizer.sequences_to_texts(val_pad_trunc_seq)[sample_index]}\")\n",
    "print(f\"predicted label: {G.CLASS_LABELS[predictions[sample_index]]} tweet.\")\n",
    "print(f\"Actual label: {G.CLASS_LABELS[val_labels[sample_index]]} tweet.\")"
   ]
  },
  {
   "cell_type": "markdown",
   "id": "086585ca",
   "metadata": {
    "papermill": {
     "duration": 0.886246,
     "end_time": "2023-06-02T21:29:10.306974",
     "exception": false,
     "start_time": "2023-06-02T21:29:09.420728",
     "status": "completed"
    },
    "tags": []
   },
   "source": [
    "**Conclusion**:\n",
    "\n",
    "The validation data has some problems with the labeling: as in the above  "
   ]
  }
 ],
 "metadata": {
  "kernelspec": {
   "display_name": "Python 3",
   "language": "python",
   "name": "python3"
  },
  "language_info": {
   "codemirror_mode": {
    "name": "ipython",
    "version": 3
   },
   "file_extension": ".py",
   "mimetype": "text/x-python",
   "name": "python",
   "nbconvert_exporter": "python",
   "pygments_lexer": "ipython3",
   "version": "3.10.10"
  },
  "papermill": {
   "default_parameters": {},
   "duration": 951.92915,
   "end_time": "2023-06-02T21:29:14.038704",
   "environment_variables": {},
   "exception": null,
   "input_path": "__notebook__.ipynb",
   "output_path": "__notebook__.ipynb",
   "parameters": {},
   "start_time": "2023-06-02T21:13:22.109554",
   "version": "2.4.0"
  }
 },
 "nbformat": 4,
 "nbformat_minor": 5
}
