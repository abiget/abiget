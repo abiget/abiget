{
 "cells": [
  {
   "cell_type": "code",
   "execution_count": 1,
   "id": "7f24984f",
   "metadata": {
    "_cell_guid": "b1076dfc-b9ad-4769-8c92-a6c4dae69d19",
    "_uuid": "8f2839f25d086af736a60e9eeb907d3b93b6e0e5",
    "execution": {
     "iopub.execute_input": "2023-06-03T17:17:43.550076Z",
     "iopub.status.busy": "2023-06-03T17:17:43.548891Z",
     "iopub.status.idle": "2023-06-03T17:17:54.310523Z",
     "shell.execute_reply": "2023-06-03T17:17:54.309252Z"
    },
    "papermill": {
     "duration": 10.775669,
     "end_time": "2023-06-03T17:17:54.313031",
     "exception": false,
     "start_time": "2023-06-03T17:17:43.537362",
     "status": "completed"
    },
    "tags": []
   },
   "outputs": [
    {
     "name": "stderr",
     "output_type": "stream",
     "text": [
      "/opt/conda/lib/python3.10/site-packages/tensorflow_io/python/ops/__init__.py:98: UserWarning: unable to load libtensorflow_io_plugins.so: unable to open file: libtensorflow_io_plugins.so, from paths: ['/opt/conda/lib/python3.10/site-packages/tensorflow_io/python/ops/libtensorflow_io_plugins.so']\n",
      "caused by: ['/opt/conda/lib/python3.10/site-packages/tensorflow_io/python/ops/libtensorflow_io_plugins.so: undefined symbol: _ZN3tsl6StatusC1EN10tensorflow5error4CodeESt17basic_string_viewIcSt11char_traitsIcEENS_14SourceLocationE']\n",
      "  warnings.warn(f\"unable to load libtensorflow_io_plugins.so: {e}\")\n",
      "/opt/conda/lib/python3.10/site-packages/tensorflow_io/python/ops/__init__.py:104: UserWarning: file system plugins are not loaded: unable to open file: libtensorflow_io.so, from paths: ['/opt/conda/lib/python3.10/site-packages/tensorflow_io/python/ops/libtensorflow_io.so']\n",
      "caused by: ['/opt/conda/lib/python3.10/site-packages/tensorflow_io/python/ops/libtensorflow_io.so: undefined symbol: _ZTVN10tensorflow13GcsFileSystemE']\n",
      "  warnings.warn(f\"file system plugins are not loaded: {e}\")\n"
     ]
    },
    {
     "name": "stdout",
     "output_type": "stream",
     "text": [
      "/kaggle/input/nlp-getting-started/sample_submission.csv\n",
      "/kaggle/input/nlp-getting-started/train.csv\n",
      "/kaggle/input/nlp-getting-started/test.csv\n",
      "/kaggle/input/glove-embeddings/glove.6B.200d.txt\n",
      "/kaggle/input/glove-embeddings/glove.6B.50d.txt\n",
      "/kaggle/input/glove-embeddings/glove.6B.300d.txt\n",
      "/kaggle/input/glove-embeddings/glove.6B.100d.txt\n"
     ]
    }
   ],
   "source": [
    "# This Python 3 environment comes with many helpful analytics libraries installed\n",
    "# It is defined by the kaggle/python Docker image: https://github.com/kaggle/docker-python\n",
    "# For example, here's several helpful packages to load\n",
    "import numpy as np # linear algebra\n",
    "import pandas as pd\n",
    "import re as regex\n",
    "import tensorflow as tf\n",
    "from dataclasses import dataclass\n",
    "from sklearn.model_selection import train_test_split\n",
    "from tensorflow import keras\n",
    "from tensorflow.keras.preprocessing.sequence import pad_sequences\n",
    "from tensorflow.keras.preprocessing.text import Tokenizer \n",
    "from matplotlib import pyplot as plt\n",
    "from nltk.corpus import stopwords\n",
    "\n",
    "# Input data files are available in the read-only \"../input/\" directory\n",
    "# For example, running this (by clicking run or pressing Shift+Enter) will list all files under the input directory\n",
    "\n",
    "import os\n",
    "for dirname, _, filenames in os.walk('/kaggle/input'):\n",
    "    for filename in filenames:\n",
    "        print(os.path.join(dirname, filename))\n",
    "\n",
    "# You can write up to 20GB to the current directory (/kaggle/working/) that gets preserved as output when you create a version using \"Save & Run All\" \n",
    "# You can also write temporary files to /kaggle/temp/, but they won't be saved outside of the current session"
   ]
  },
  {
   "cell_type": "code",
   "execution_count": 2,
   "id": "930098ab",
   "metadata": {
    "execution": {
     "iopub.execute_input": "2023-06-03T17:17:54.332162Z",
     "iopub.status.busy": "2023-06-03T17:17:54.331506Z",
     "iopub.status.idle": "2023-06-03T17:17:54.396193Z",
     "shell.execute_reply": "2023-06-03T17:17:54.395018Z"
    },
    "papermill": {
     "duration": 0.076643,
     "end_time": "2023-06-03T17:17:54.398581",
     "exception": false,
     "start_time": "2023-06-03T17:17:54.321938",
     "status": "completed"
    },
    "tags": []
   },
   "outputs": [],
   "source": [
    "base_dir = '/kaggle/input/nlp-getting-started/'\n",
    "#Load training and validation datasets\n",
    "train_val_df = pd.read_csv(os.path.join(base_dir, 'train.csv'))\n",
    "test_df = pd.read_csv(os.path.join(base_dir, 'test.csv'))"
   ]
  },
  {
   "cell_type": "code",
   "execution_count": 3,
   "id": "669cccab",
   "metadata": {
    "execution": {
     "iopub.execute_input": "2023-06-03T17:17:54.419548Z",
     "iopub.status.busy": "2023-06-03T17:17:54.419208Z",
     "iopub.status.idle": "2023-06-03T17:17:54.436275Z",
     "shell.execute_reply": "2023-06-03T17:17:54.435239Z"
    },
    "papermill": {
     "duration": 0.028914,
     "end_time": "2023-06-03T17:17:54.438323",
     "exception": false,
     "start_time": "2023-06-03T17:17:54.409409",
     "status": "completed"
    },
    "tags": []
   },
   "outputs": [
    {
     "data": {
      "text/plain": [
       "0    4342\n",
       "1    3271\n",
       "Name: target, dtype: int64"
      ]
     },
     "execution_count": 3,
     "metadata": {},
     "output_type": "execute_result"
    }
   ],
   "source": [
    "#class distribution of train_val_data\n",
    "train_val_df['target'].value_counts()"
   ]
  },
  {
   "cell_type": "code",
   "execution_count": 4,
   "id": "14f5bcb8",
   "metadata": {
    "execution": {
     "iopub.execute_input": "2023-06-03T17:17:54.457524Z",
     "iopub.status.busy": "2023-06-03T17:17:54.457142Z",
     "iopub.status.idle": "2023-06-03T17:17:54.465270Z",
     "shell.execute_reply": "2023-06-03T17:17:54.464410Z"
    },
    "papermill": {
     "duration": 0.020481,
     "end_time": "2023-06-03T17:17:54.467695",
     "exception": false,
     "start_time": "2023-06-03T17:17:54.447214",
     "status": "completed"
    },
    "tags": []
   },
   "outputs": [
    {
     "data": {
      "text/plain": [
       "(7613, 7613)"
      ]
     },
     "execution_count": 4,
     "metadata": {},
     "output_type": "execute_result"
    }
   ],
   "source": [
    "#Extract train_val_sentences and its labels\n",
    "train_val_sentences, train_val_labels = list(train_val_df['text']), list(train_val_df['target'])\n",
    "#number of train_val examples\n",
    "len(train_val_sentences), len(train_val_labels)"
   ]
  },
  {
   "cell_type": "code",
   "execution_count": 5,
   "id": "00bad17e",
   "metadata": {
    "execution": {
     "iopub.execute_input": "2023-06-03T17:17:54.487421Z",
     "iopub.status.busy": "2023-06-03T17:17:54.486992Z",
     "iopub.status.idle": "2023-06-03T17:17:54.492834Z",
     "shell.execute_reply": "2023-06-03T17:17:54.491946Z"
    },
    "papermill": {
     "duration": 0.017995,
     "end_time": "2023-06-03T17:17:54.494531",
     "exception": false,
     "start_time": "2023-06-03T17:17:54.476536",
     "status": "completed"
    },
    "tags": []
   },
   "outputs": [
    {
     "name": "stdout",
     "output_type": "stream",
     "text": [
      "Length of test_df: 3263 sentences.\n"
     ]
    }
   ],
   "source": [
    "#Length of test_df\n",
    "print(f\"Length of test_df: {len(test_df['id'])} sentences.\")\n",
    "#Test sentences\n",
    "test_sentences = list(test_df['text'])"
   ]
  },
  {
   "cell_type": "code",
   "execution_count": 6,
   "id": "9bb5ec5d",
   "metadata": {
    "execution": {
     "iopub.execute_input": "2023-06-03T17:17:54.513847Z",
     "iopub.status.busy": "2023-06-03T17:17:54.513491Z",
     "iopub.status.idle": "2023-06-03T17:17:54.519238Z",
     "shell.execute_reply": "2023-06-03T17:17:54.518098Z"
    },
    "papermill": {
     "duration": 0.017763,
     "end_time": "2023-06-03T17:17:54.521133",
     "exception": false,
     "start_time": "2023-06-03T17:17:54.503370",
     "status": "completed"
    },
    "tags": []
   },
   "outputs": [],
   "source": [
    "#Save all the global varibales in G class (Global)\n",
    "@dataclass\n",
    "class G:\n",
    "    BATCH_SIZE = 32\n",
    "    #75% of the train_val data used for training and rest 25% for validations\n",
    "    TRAIN_SIZE = 0.65 \n",
    "    EPOCHS = 20 \n",
    "    #at least size of training\n",
    "    EMBEDDING_DIM = 100\n",
    "    TRUNCATING = 'post'\n",
    "    PADDING = 'post'\n",
    "    OOV_TOKEN = '<OOV>'\n",
    "    MAXLEN = 20 \n",
    "    \n",
    "    CLASS_LABELS = {1: \"Disaster\",\n",
    "                    0 :\"Normal\"}"
   ]
  },
  {
   "cell_type": "code",
   "execution_count": 7,
   "id": "431fe9b5",
   "metadata": {
    "execution": {
     "iopub.execute_input": "2023-06-03T17:17:54.540285Z",
     "iopub.status.busy": "2023-06-03T17:17:54.539962Z",
     "iopub.status.idle": "2023-06-03T17:17:54.548224Z",
     "shell.execute_reply": "2023-06-03T17:17:54.547288Z"
    },
    "papermill": {
     "duration": 0.019915,
     "end_time": "2023-06-03T17:17:54.549960",
     "exception": false,
     "start_time": "2023-06-03T17:17:54.530045",
     "status": "completed"
    },
    "tags": []
   },
   "outputs": [],
   "source": [
    "#Convert train_val_sentences and test_sentences into lower case\n",
    "train_val_sentences_lowercase = [text.lower() for text in train_val_sentences]\n",
    "test_sentences_lowercase = [text.lower() for text in test_sentences]"
   ]
  },
  {
   "cell_type": "code",
   "execution_count": 8,
   "id": "52c83c95",
   "metadata": {
    "execution": {
     "iopub.execute_input": "2023-06-03T17:17:54.569218Z",
     "iopub.status.busy": "2023-06-03T17:17:54.568838Z",
     "iopub.status.idle": "2023-06-03T17:17:54.574864Z",
     "shell.execute_reply": "2023-06-03T17:17:54.573805Z"
    },
    "papermill": {
     "duration": 0.018449,
     "end_time": "2023-06-03T17:17:54.577158",
     "exception": false,
     "start_time": "2023-06-03T17:17:54.558709",
     "status": "completed"
    },
    "tags": []
   },
   "outputs": [
    {
     "data": {
      "text/plain": [
       "('our deeds are the reason of this #earthquake may allah forgive us all',\n",
       " 'just happened a terrible car crash')"
      ]
     },
     "execution_count": 8,
     "metadata": {},
     "output_type": "execute_result"
    }
   ],
   "source": [
    "#Sample sentences from train_val_sentences and test_sentences\n",
    "train_val_sentences_lowercase[0], test_sentences_lowercase[0]"
   ]
  },
  {
   "cell_type": "code",
   "execution_count": 9,
   "id": "495f15a6",
   "metadata": {
    "execution": {
     "iopub.execute_input": "2023-06-03T17:17:54.596797Z",
     "iopub.status.busy": "2023-06-03T17:17:54.596430Z",
     "iopub.status.idle": "2023-06-03T17:17:54.601208Z",
     "shell.execute_reply": "2023-06-03T17:17:54.600408Z"
    },
    "papermill": {
     "duration": 0.017209,
     "end_time": "2023-06-03T17:17:54.603300",
     "exception": false,
     "start_time": "2023-06-03T17:17:54.586091",
     "status": "completed"
    },
    "tags": []
   },
   "outputs": [],
   "source": [
    "def remove_stopwords(text):\n",
    "    \"\"\"\n",
    "    Remove stopwords from each sentence\n",
    "    Args:\n",
    "        sentence (string) : a row of sentence from a list\n",
    "    \n",
    "    Returns:\n",
    "        sentence without stopwords\n",
    "    \"\"\"\n",
    "    word_list = text.split(\" \")\n",
    "    return \" \".join([word for word in word_list if word not in stopwords.words('english')])"
   ]
  },
  {
   "cell_type": "code",
   "execution_count": 10,
   "id": "810c6cf7",
   "metadata": {
    "execution": {
     "iopub.execute_input": "2023-06-03T17:17:54.623243Z",
     "iopub.status.busy": "2023-06-03T17:17:54.622581Z",
     "iopub.status.idle": "2023-06-03T17:17:54.627153Z",
     "shell.execute_reply": "2023-06-03T17:17:54.626497Z"
    },
    "papermill": {
     "duration": 0.01669,
     "end_time": "2023-06-03T17:17:54.628789",
     "exception": false,
     "start_time": "2023-06-03T17:17:54.612099",
     "status": "completed"
    },
    "tags": []
   },
   "outputs": [],
   "source": [
    "def clean_text(text):\n",
    "    \"\"\"\n",
    "        Take lower-cased text and remove links, domain names, and #, and \n",
    "        any small letters and numbers both separated by white space.\n",
    "    \"\"\"\n",
    "    text = regex.sub('http:\\S+', '', text)\n",
    "    text = regex.sub('@\\S+', '', text)\n",
    "    text = regex.sub('#', '', text)\n",
    "    text = regex.sub('[^a-z0-9\\s]', '', text)\n",
    "    return remove_stopwords(text)"
   ]
  },
  {
   "cell_type": "code",
   "execution_count": 11,
   "id": "2c7c2ad4",
   "metadata": {
    "execution": {
     "iopub.execute_input": "2023-06-03T17:17:54.648138Z",
     "iopub.status.busy": "2023-06-03T17:17:54.647326Z",
     "iopub.status.idle": "2023-06-03T17:18:10.297472Z",
     "shell.execute_reply": "2023-06-03T17:18:10.296740Z"
    },
    "papermill": {
     "duration": 15.662379,
     "end_time": "2023-06-03T17:18:10.299880",
     "exception": false,
     "start_time": "2023-06-03T17:17:54.637501",
     "status": "completed"
    },
    "tags": []
   },
   "outputs": [],
   "source": [
    "#Remove clean and remove stopwords from train and val sentences\n",
    "train_val_cleaned_sentences_without_stopwords = list(map(clean_text, train_val_sentences_lowercase))\n",
    "test_cleaned_sentences_without_stopwords = list(map(clean_text, test_sentences_lowercase))"
   ]
  },
  {
   "cell_type": "code",
   "execution_count": 12,
   "id": "8fe5962d",
   "metadata": {
    "execution": {
     "iopub.execute_input": "2023-06-03T17:18:10.319912Z",
     "iopub.status.busy": "2023-06-03T17:18:10.318806Z",
     "iopub.status.idle": "2023-06-03T17:18:10.323944Z",
     "shell.execute_reply": "2023-06-03T17:18:10.323066Z"
    },
    "papermill": {
     "duration": 0.017659,
     "end_time": "2023-06-03T17:18:10.326253",
     "exception": false,
     "start_time": "2023-06-03T17:18:10.308594",
     "status": "completed"
    },
    "tags": []
   },
   "outputs": [
    {
     "name": "stdout",
     "output_type": "stream",
     "text": [
      "deeds reason earthquake may allah forgive us happened terrible car crash\n",
      "7613 3263\n"
     ]
    }
   ],
   "source": [
    "#Sample sentences after clean_text operation\n",
    "print(train_val_cleaned_sentences_without_stopwords[0], test_cleaned_sentences_without_stopwords[0])\n",
    "print(len(train_val_cleaned_sentences_without_stopwords), len(test_cleaned_sentences_without_stopwords)) "
   ]
  },
  {
   "cell_type": "code",
   "execution_count": 13,
   "id": "c9d327d6",
   "metadata": {
    "execution": {
     "iopub.execute_input": "2023-06-03T17:18:10.344681Z",
     "iopub.status.busy": "2023-06-03T17:18:10.344318Z",
     "iopub.status.idle": "2023-06-03T17:18:10.351405Z",
     "shell.execute_reply": "2023-06-03T17:18:10.350114Z"
    },
    "papermill": {
     "duration": 0.019006,
     "end_time": "2023-06-03T17:18:10.353935",
     "exception": false,
     "start_time": "2023-06-03T17:18:10.334929",
     "status": "completed"
    },
    "tags": []
   },
   "outputs": [],
   "source": [
    "#lists containing count of the number of words in each rows of train_val and test\n",
    "train_val_sentences_count = np.array([len(sentence) for sentence in train_val_cleaned_sentences_without_stopwords])\n",
    "test_sentences_count = np.array([len(sentence) for sentence in test_cleaned_sentences_without_stopwords])"
   ]
  },
  {
   "cell_type": "code",
   "execution_count": 14,
   "id": "86d3330e",
   "metadata": {
    "execution": {
     "iopub.execute_input": "2023-06-03T17:18:10.374548Z",
     "iopub.status.busy": "2023-06-03T17:18:10.373562Z",
     "iopub.status.idle": "2023-06-03T17:18:10.386052Z",
     "shell.execute_reply": "2023-06-03T17:18:10.384709Z"
    },
    "papermill": {
     "duration": 0.02562,
     "end_time": "2023-06-03T17:18:10.388789",
     "exception": false,
     "start_time": "2023-06-03T17:18:10.363169",
     "status": "completed"
    },
    "tags": []
   },
   "outputs": [
    {
     "name": "stdout",
     "output_type": "stream",
     "text": [
      "The number of empty text in 'train_val_cleaned_sentences_without_stopwords': 0\n",
      "The number of empty text in 'test_cleaned_sentences_without_stopwords': 1\n",
      "'train_val_cleaned_sentences_without_stopwords' max-length text:     140 and min-length sentence: 3\n",
      "'test_cleaned_sentences_without_stopwords' max-length text:     129 and min-length sentence: 0\n"
     ]
    }
   ],
   "source": [
    "print(\"The number of empty text in 'train_val_cleaned_sentences_without_stopwords':\",\\\n",
    "      sum(train_val_sentences_count == 0))\n",
    "print(\"The number of empty text in 'test_cleaned_sentences_without_stopwords':\",\\\n",
    "      sum(test_sentences_count == 0))\n",
    "print(f\"'train_val_cleaned_sentences_without_stopwords' max-length text: \\\n",
    "    {max(train_val_sentences_count)} and min-length sentence: {min(train_val_sentences_count)}\")\n",
    "print(f\"'test_cleaned_sentences_without_stopwords' max-length text: \\\n",
    "    {max(test_sentences_count)} and min-length sentence: {min(test_sentences_count)}\")"
   ]
  },
  {
   "cell_type": "code",
   "execution_count": 15,
   "id": "c1cb50af",
   "metadata": {
    "execution": {
     "iopub.execute_input": "2023-06-03T17:18:10.409869Z",
     "iopub.status.busy": "2023-06-03T17:18:10.408850Z",
     "iopub.status.idle": "2023-06-03T17:18:10.416433Z",
     "shell.execute_reply": "2023-06-03T17:18:10.414243Z"
    },
    "papermill": {
     "duration": 0.020965,
     "end_time": "2023-06-03T17:18:10.419199",
     "exception": false,
     "start_time": "2023-06-03T17:18:10.398234",
     "status": "completed"
    },
    "tags": []
   },
   "outputs": [],
   "source": [
    "def split_data(sentences, labels, train_size):\n",
    "    \"\"\" \n",
    "    convert train_val_cleaned_sentences_without_stopwords\n",
    "    into train and validation data with the specified train_size parameter\n",
    "    \"\"\"\n",
    "    return train_test_split(sentences, labels, train_size=train_size, random_state=42)"
   ]
  },
  {
   "cell_type": "code",
   "execution_count": 16,
   "id": "d0d5b9b3",
   "metadata": {
    "execution": {
     "iopub.execute_input": "2023-06-03T17:18:10.439593Z",
     "iopub.status.busy": "2023-06-03T17:18:10.439217Z",
     "iopub.status.idle": "2023-06-03T17:18:10.447805Z",
     "shell.execute_reply": "2023-06-03T17:18:10.446554Z"
    },
    "papermill": {
     "duration": 0.022103,
     "end_time": "2023-06-03T17:18:10.450602",
     "exception": false,
     "start_time": "2023-06-03T17:18:10.428499",
     "status": "completed"
    },
    "tags": []
   },
   "outputs": [],
   "source": [
    "train_sentences_final, val_sentences_final, train_labels, val_labels = \\\n",
    "split_data(train_val_cleaned_sentences_without_stopwords, train_val_labels, G.TRAIN_SIZE)"
   ]
  },
  {
   "cell_type": "code",
   "execution_count": 17,
   "id": "3841435b",
   "metadata": {
    "execution": {
     "iopub.execute_input": "2023-06-03T17:18:10.471330Z",
     "iopub.status.busy": "2023-06-03T17:18:10.470953Z",
     "iopub.status.idle": "2023-06-03T17:18:10.477453Z",
     "shell.execute_reply": "2023-06-03T17:18:10.476093Z"
    },
    "papermill": {
     "duration": 0.019548,
     "end_time": "2023-06-03T17:18:10.479610",
     "exception": false,
     "start_time": "2023-06-03T17:18:10.460062",
     "status": "completed"
    },
    "tags": []
   },
   "outputs": [
    {
     "name": "stdout",
     "output_type": "stream",
     "text": [
      "Train examples: 4948\n",
      "Validation examples: 2665\n",
      "All in type :<class 'list'>\n"
     ]
    }
   ],
   "source": [
    "#number of training and validation examples\n",
    "print(f\"Train examples: {len(train_sentences_final)}\")\n",
    "print(f\"Validation examples: {len(val_sentences_final)}\")\n",
    "print(f'All in type :{type(train_sentences_final)}')"
   ]
  },
  {
   "cell_type": "code",
   "execution_count": 18,
   "id": "0738a839",
   "metadata": {
    "execution": {
     "iopub.execute_input": "2023-06-03T17:18:10.500074Z",
     "iopub.status.busy": "2023-06-03T17:18:10.499739Z",
     "iopub.status.idle": "2023-06-03T17:18:10.505186Z",
     "shell.execute_reply": "2023-06-03T17:18:10.504036Z"
    },
    "papermill": {
     "duration": 0.019132,
     "end_time": "2023-06-03T17:18:10.508091",
     "exception": false,
     "start_time": "2023-06-03T17:18:10.488959",
     "status": "completed"
    },
    "tags": []
   },
   "outputs": [],
   "source": [
    "def fit_tokenizer(train_sentences, oov_token):\n",
    "    \"\"\"\n",
    "    Instantiate the tokenizer class with the given training sentences\n",
    "    \n",
    "    Args:\n",
    "        train_sentences (list of string) : lower-cased sentences without stop words to be used for training\n",
    "        oov_token (string) : symbole for out of vocabulary words\n",
    "    \n",
    "    Returns:\n",
    "        tokenizer (object) : an instance of the Tokenizer class containing index-word dictionary\n",
    "    \"\"\"\n",
    "    #instantiate the tokenizer object \n",
    "    tokenizer = Tokenizer(oov_token=oov_token)\n",
    "    #fit the tokenizer with training sentences\n",
    "    tokenizer.fit_on_texts(train_sentences)\n",
    "    return tokenizer"
   ]
  },
  {
   "cell_type": "code",
   "execution_count": 19,
   "id": "bdcb4d42",
   "metadata": {
    "execution": {
     "iopub.execute_input": "2023-06-03T17:18:10.528889Z",
     "iopub.status.busy": "2023-06-03T17:18:10.528479Z",
     "iopub.status.idle": "2023-06-03T17:18:10.629063Z",
     "shell.execute_reply": "2023-06-03T17:18:10.628199Z"
    },
    "papermill": {
     "duration": 0.113694,
     "end_time": "2023-06-03T17:18:10.630868",
     "exception": false,
     "start_time": "2023-06-03T17:18:10.517174",
     "status": "completed"
    },
    "tags": []
   },
   "outputs": [
    {
     "name": "stdout",
     "output_type": "stream",
     "text": [
      "Vocabulary contains 12242 words\n",
      "\n",
      "<oov> included in the vocabulary\n"
     ]
    }
   ],
   "source": [
    "tokenizer = fit_tokenizer(train_sentences_final, G.OOV_TOKEN)\n",
    "word_index = tokenizer.word_index\n",
    "VOCAB_SIZE = len(word_index)\n",
    "\n",
    "print(f\"Vocabulary contains {VOCAB_SIZE} words\\n\")\n",
    "print(\"<oov> included in the vocabulary\" if '<OOV>' in word_index else \"<OOV> not included in the vocabulary\")"
   ]
  },
  {
   "cell_type": "code",
   "execution_count": 20,
   "id": "07b235bd",
   "metadata": {
    "execution": {
     "iopub.execute_input": "2023-06-03T17:18:10.650955Z",
     "iopub.status.busy": "2023-06-03T17:18:10.650530Z",
     "iopub.status.idle": "2023-06-03T17:18:10.657097Z",
     "shell.execute_reply": "2023-06-03T17:18:10.655783Z"
    },
    "papermill": {
     "duration": 0.018853,
     "end_time": "2023-06-03T17:18:10.659205",
     "exception": false,
     "start_time": "2023-06-03T17:18:10.640352",
     "status": "completed"
    },
    "tags": []
   },
   "outputs": [],
   "source": [
    "def seq_pad_and_truncate(sentences, tokenizer, padding, truncating, maxlen):\n",
    "    \"\"\"\n",
    "    Generate an array of sequences based on the tokenizer and pad them\n",
    "    \n",
    "    Args:\n",
    "        sentences (list of string): sentences to be converted to token sequences and pad\n",
    "        tokenizer (object): an instance of tokenizer object fitted on training sentences\n",
    "        padding (string): type of padding to use\n",
    "        truncating (string): type of truncating to use\n",
    "        maxlen (int): the maximum length of each sequences\n",
    "    \n",
    "    Returns:\n",
    "        pad_trunc_sequences (array of int): tokenized sentences padded and truncate to the same length\n",
    "    \"\"\"\n",
    "    sequences = tokenizer.texts_to_sequences(sentences)\n",
    "    pad_trunc_sequences = pad_sequences(sequences, padding=padding, truncating=truncating, maxlen=maxlen)\n",
    "    return pad_trunc_sequences"
   ]
  },
  {
   "cell_type": "code",
   "execution_count": 21,
   "id": "52a5870a",
   "metadata": {
    "execution": {
     "iopub.execute_input": "2023-06-03T17:18:10.680313Z",
     "iopub.status.busy": "2023-06-03T17:18:10.679518Z",
     "iopub.status.idle": "2023-06-03T17:18:10.798869Z",
     "shell.execute_reply": "2023-06-03T17:18:10.797381Z"
    },
    "papermill": {
     "duration": 0.132273,
     "end_time": "2023-06-03T17:18:10.801285",
     "exception": false,
     "start_time": "2023-06-03T17:18:10.669012",
     "status": "completed"
    },
    "tags": []
   },
   "outputs": [],
   "source": [
    "#pad and truncate validation, training dataset and convert their labels into numpy\n",
    "train_pad_trunc_seq = seq_pad_and_truncate(train_sentences_final, tokenizer,\\\n",
    "                                           G.PADDING, G.TRUNCATING, G.MAXLEN)\n",
    "val_pad_trunc_seq = seq_pad_and_truncate(val_sentences_final, tokenizer,\\\n",
    "                                         G.PADDING, G.TRUNCATING, G.MAXLEN)\n",
    "train_labels = np.array(train_labels)\n",
    "val_labels = np.array(val_labels)"
   ]
  },
  {
   "cell_type": "code",
   "execution_count": 22,
   "id": "605b77cc",
   "metadata": {
    "execution": {
     "iopub.execute_input": "2023-06-03T17:18:10.822112Z",
     "iopub.status.busy": "2023-06-03T17:18:10.821734Z",
     "iopub.status.idle": "2023-06-03T17:18:10.875572Z",
     "shell.execute_reply": "2023-06-03T17:18:10.874494Z"
    },
    "papermill": {
     "duration": 0.066867,
     "end_time": "2023-06-03T17:18:10.877892",
     "exception": false,
     "start_time": "2023-06-03T17:18:10.811025",
     "status": "completed"
    },
    "tags": []
   },
   "outputs": [],
   "source": [
    "#pad and truncate testing dataset\n",
    "test_pad_trunc_seq = seq_pad_and_truncate(test_cleaned_sentences_without_stopwords, tokenizer,\\\n",
    "                                           G.PADDING, G.TRUNCATING, G.MAXLEN)"
   ]
  },
  {
   "cell_type": "code",
   "execution_count": 23,
   "id": "cbdb6fff",
   "metadata": {
    "execution": {
     "iopub.execute_input": "2023-06-03T17:18:10.898266Z",
     "iopub.status.busy": "2023-06-03T17:18:10.897926Z",
     "iopub.status.idle": "2023-06-03T17:18:19.530259Z",
     "shell.execute_reply": "2023-06-03T17:18:19.529553Z"
    },
    "papermill": {
     "duration": 8.644719,
     "end_time": "2023-06-03T17:18:19.532514",
     "exception": false,
     "start_time": "2023-06-03T17:18:10.887795",
     "status": "completed"
    },
    "tags": []
   },
   "outputs": [],
   "source": [
    "# Define path to file containing the embeddings\n",
    "GLOVE_FILE = '/kaggle/input/glove-embeddings/glove.6B.100d.txt'\n",
    "\n",
    "# Initialize an empty embeddings index dictionary\n",
    "GLOVE_EMBEDDINGS = {}\n",
    "\n",
    "# Read file and fill GLOVE_EMBEDDINGS with its contents\n",
    "with open(GLOVE_FILE) as f:\n",
    "    for line in f:\n",
    "        values = line.split()\n",
    "        word = values[0]\n",
    "        coefs = np.asarray(values[1:], dtype='float32')\n",
    "        GLOVE_EMBEDDINGS[word] = coefs"
   ]
  },
  {
   "cell_type": "code",
   "execution_count": 24,
   "id": "1d48da94",
   "metadata": {
    "execution": {
     "iopub.execute_input": "2023-06-03T17:18:19.554150Z",
     "iopub.status.busy": "2023-06-03T17:18:19.553616Z",
     "iopub.status.idle": "2023-06-03T17:18:19.578191Z",
     "shell.execute_reply": "2023-06-03T17:18:19.577461Z"
    },
    "papermill": {
     "duration": 0.038856,
     "end_time": "2023-06-03T17:18:19.581262",
     "exception": false,
     "start_time": "2023-06-03T17:18:19.542406",
     "status": "completed"
    },
    "tags": []
   },
   "outputs": [],
   "source": [
    "# Initialize an empty numpy array with the appropriate size\n",
    "EMBEDDINGS_MATRIX = np.zeros((VOCAB_SIZE+1, G.EMBEDDING_DIM))\n",
    "\n",
    "# Iterate all of the words in the vocabulary and if the vector representation for \n",
    "# each word exists within GloVe's representations, save it in the EMBEDDINGS_MATRIX array\n",
    "for word, i in word_index.items():\n",
    "    embedding_vector = GLOVE_EMBEDDINGS.get(word)\n",
    "    if embedding_vector is not None:\n",
    "        EMBEDDINGS_MATRIX[i] = embedding_vector"
   ]
  },
  {
   "cell_type": "code",
   "execution_count": 25,
   "id": "0ad59df3",
   "metadata": {
    "execution": {
     "iopub.execute_input": "2023-06-03T17:18:19.602236Z",
     "iopub.status.busy": "2023-06-03T17:18:19.601707Z",
     "iopub.status.idle": "2023-06-03T17:18:19.606689Z",
     "shell.execute_reply": "2023-06-03T17:18:19.606085Z"
    },
    "papermill": {
     "duration": 0.018026,
     "end_time": "2023-06-03T17:18:19.608518",
     "exception": false,
     "start_time": "2023-06-03T17:18:19.590492",
     "status": "completed"
    },
    "tags": []
   },
   "outputs": [],
   "source": [
    "def create_uncompiled_model():\n",
    "    \"\"\"\n",
    "    Creates binary sentiment classifier\n",
    "    \n",
    "    Args:\n",
    "        vocab_size (int): size of vocabulary\n",
    "        embedding_dim (int): dimension of the embedding vector\n",
    "        maxlen (int): length of input sequences\n",
    "        embedding_matrix (array): represenation of words\n",
    "    \n",
    "    Returns:\n",
    "        model (tf.keras.Model): sentiment classifier model\n",
    "    \"\"\"\n",
    "    model = keras.Sequential([\n",
    "        #usig pre-trained embeddings\n",
    "        keras.layers.Embedding(VOCAB_SIZE+1, G.EMBEDDING_DIM, input_length=G.MAXLEN, weights=[EMBEDDINGS_MATRIX]),\n",
    "        keras.layers.Bidirectional(keras.layers.LSTM(16, dropout=0.1, recurrent_dropout=0.1,\\\n",
    "                                                     kernel_regularizer='l1',activity_regularizer='l1')),\n",
    "        keras.layers.Dense(16, activation='relu', kernel_regularizer='l1'),\n",
    "        keras.layers.Dense(1, activation='sigmoid')\n",
    "    ])\n",
    "    \n",
    "    return model"
   ]
  },
  {
   "cell_type": "code",
   "execution_count": 26,
   "id": "3bc90eef",
   "metadata": {
    "execution": {
     "iopub.execute_input": "2023-06-03T17:18:19.629758Z",
     "iopub.status.busy": "2023-06-03T17:18:19.629112Z",
     "iopub.status.idle": "2023-06-03T17:18:19.634708Z",
     "shell.execute_reply": "2023-06-03T17:18:19.633719Z"
    },
    "papermill": {
     "duration": 0.018737,
     "end_time": "2023-06-03T17:18:19.636758",
     "exception": false,
     "start_time": "2023-06-03T17:18:19.618021",
     "status": "completed"
    },
    "tags": []
   },
   "outputs": [],
   "source": [
    "def adujst_learnig_rate_model():\n",
    "    \"\"\"\n",
    "    Model to pick the best learning rate for these dataset\n",
    "    \"\"\"\n",
    "    model = create_uncompiled_model()\n",
    "    lr_schedule = keras.callbacks.LearningRateScheduler(lambda epoch: 1e-6 * 10**(epoch / 20))\n",
    "    model.compile(loss='binary_crossentropy',\n",
    "                  optimizer=keras.optimizers.Adam(),\n",
    "                  metrics=['accuracy'])\n",
    "    history = model.fit(train_pad_trunc_seq, train_labels, batch_size=G.BATCH_SIZE, epochs=50, callbacks=[lr_schedule])\n",
    "    return history"
   ]
  },
  {
   "cell_type": "code",
   "execution_count": 27,
   "id": "199902ad",
   "metadata": {
    "execution": {
     "iopub.execute_input": "2023-06-03T17:18:19.657157Z",
     "iopub.status.busy": "2023-06-03T17:18:19.656780Z",
     "iopub.status.idle": "2023-06-03T17:22:47.468485Z",
     "shell.execute_reply": "2023-06-03T17:22:47.467501Z"
    },
    "papermill": {
     "duration": 267.824835,
     "end_time": "2023-06-03T17:22:47.470864",
     "exception": false,
     "start_time": "2023-06-03T17:18:19.646029",
     "status": "completed"
    },
    "tags": []
   },
   "outputs": [
    {
     "name": "stdout",
     "output_type": "stream",
     "text": [
      "Epoch 1/50\n",
      "155/155 [==============================] - 10s 27ms/step - loss: 13.8833 - accuracy: 0.5241 - lr: 1.0000e-06\n",
      "Epoch 2/50\n",
      "155/155 [==============================] - 4s 27ms/step - loss: 13.8616 - accuracy: 0.5257 - lr: 1.1220e-06\n",
      "Epoch 3/50\n",
      "155/155 [==============================] - 4s 27ms/step - loss: 13.8376 - accuracy: 0.5271 - lr: 1.2589e-06\n",
      "Epoch 4/50\n",
      "155/155 [==============================] - 4s 27ms/step - loss: 13.8099 - accuracy: 0.5275 - lr: 1.4125e-06\n",
      "Epoch 5/50\n",
      "155/155 [==============================] - 4s 28ms/step - loss: 13.7786 - accuracy: 0.5366 - lr: 1.5849e-06\n",
      "Epoch 6/50\n",
      "155/155 [==============================] - 4s 28ms/step - loss: 13.7445 - accuracy: 0.5390 - lr: 1.7783e-06\n",
      "Epoch 7/50\n",
      "155/155 [==============================] - 4s 29ms/step - loss: 13.7057 - accuracy: 0.5408 - lr: 1.9953e-06\n",
      "Epoch 8/50\n",
      "155/155 [==============================] - 4s 28ms/step - loss: 13.6624 - accuracy: 0.5402 - lr: 2.2387e-06\n",
      "Epoch 9/50\n",
      "155/155 [==============================] - 5s 31ms/step - loss: 13.6138 - accuracy: 0.5439 - lr: 2.5119e-06\n",
      "Epoch 10/50\n",
      "155/155 [==============================] - 6s 39ms/step - loss: 13.5599 - accuracy: 0.5483 - lr: 2.8184e-06\n",
      "Epoch 11/50\n",
      "155/155 [==============================] - 6s 39ms/step - loss: 13.4997 - accuracy: 0.5449 - lr: 3.1623e-06\n",
      "Epoch 12/50\n",
      "155/155 [==============================] - 6s 39ms/step - loss: 13.4314 - accuracy: 0.5530 - lr: 3.5481e-06\n",
      "Epoch 13/50\n",
      "155/155 [==============================] - 6s 40ms/step - loss: 13.3559 - accuracy: 0.5459 - lr: 3.9811e-06\n",
      "Epoch 14/50\n",
      "155/155 [==============================] - 6s 40ms/step - loss: 13.2701 - accuracy: 0.5639 - lr: 4.4668e-06\n",
      "Epoch 15/50\n",
      "155/155 [==============================] - 6s 39ms/step - loss: 13.1749 - accuracy: 0.5627 - lr: 5.0119e-06\n",
      "Epoch 16/50\n",
      "155/155 [==============================] - 6s 36ms/step - loss: 13.0685 - accuracy: 0.5665 - lr: 5.6234e-06\n",
      "Epoch 17/50\n",
      "155/155 [==============================] - 4s 28ms/step - loss: 12.9498 - accuracy: 0.5772 - lr: 6.3096e-06\n",
      "Epoch 18/50\n",
      "155/155 [==============================] - 4s 28ms/step - loss: 12.8171 - accuracy: 0.5847 - lr: 7.0795e-06\n",
      "Epoch 19/50\n",
      "155/155 [==============================] - 4s 29ms/step - loss: 12.6691 - accuracy: 0.5899 - lr: 7.9433e-06\n",
      "Epoch 20/50\n",
      "155/155 [==============================] - 4s 28ms/step - loss: 12.5042 - accuracy: 0.6013 - lr: 8.9125e-06\n",
      "Epoch 21/50\n",
      "155/155 [==============================] - 4s 28ms/step - loss: 12.3204 - accuracy: 0.6061 - lr: 1.0000e-05\n",
      "Epoch 22/50\n",
      "155/155 [==============================] - 4s 27ms/step - loss: 12.1165 - accuracy: 0.6211 - lr: 1.1220e-05\n",
      "Epoch 23/50\n",
      "155/155 [==============================] - 4s 27ms/step - loss: 11.8897 - accuracy: 0.6178 - lr: 1.2589e-05\n",
      "Epoch 24/50\n",
      "155/155 [==============================] - 4s 28ms/step - loss: 11.6376 - accuracy: 0.6285 - lr: 1.4125e-05\n",
      "Epoch 25/50\n",
      "155/155 [==============================] - 5s 29ms/step - loss: 11.3586 - accuracy: 0.6269 - lr: 1.5849e-05\n",
      "Epoch 26/50\n",
      "155/155 [==============================] - 5s 32ms/step - loss: 11.0493 - accuracy: 0.6405 - lr: 1.7783e-05\n",
      "Epoch 27/50\n",
      "155/155 [==============================] - 5s 31ms/step - loss: 10.7084 - accuracy: 0.6514 - lr: 1.9953e-05\n",
      "Epoch 28/50\n",
      "155/155 [==============================] - 5s 30ms/step - loss: 10.3326 - accuracy: 0.6522 - lr: 2.2387e-05\n",
      "Epoch 29/50\n",
      "155/155 [==============================] - 5s 31ms/step - loss: 9.9203 - accuracy: 0.6621 - lr: 2.5119e-05\n",
      "Epoch 30/50\n",
      "155/155 [==============================] - 5s 30ms/step - loss: 9.4675 - accuracy: 0.6655 - lr: 2.8184e-05\n",
      "Epoch 31/50\n",
      "155/155 [==============================] - 5s 31ms/step - loss: 8.9728 - accuracy: 0.6789 - lr: 3.1623e-05\n",
      "Epoch 32/50\n",
      "155/155 [==============================] - 5s 31ms/step - loss: 8.4346 - accuracy: 0.6896 - lr: 3.5481e-05\n",
      "Epoch 33/50\n",
      "155/155 [==============================] - 5s 32ms/step - loss: 7.8531 - accuracy: 0.7035 - lr: 3.9811e-05\n",
      "Epoch 34/50\n",
      "155/155 [==============================] - 5s 30ms/step - loss: 7.2286 - accuracy: 0.7207 - lr: 4.4668e-05\n",
      "Epoch 35/50\n",
      "155/155 [==============================] - 5s 30ms/step - loss: 6.5624 - accuracy: 0.7328 - lr: 5.0119e-05\n",
      "Epoch 36/50\n",
      "155/155 [==============================] - 5s 30ms/step - loss: 5.8568 - accuracy: 0.7462 - lr: 5.6234e-05\n",
      "Epoch 37/50\n",
      "155/155 [==============================] - 5s 30ms/step - loss: 5.1218 - accuracy: 0.7629 - lr: 6.3096e-05\n",
      "Epoch 38/50\n",
      "155/155 [==============================] - 5s 30ms/step - loss: 4.3643 - accuracy: 0.7755 - lr: 7.0795e-05\n",
      "Epoch 39/50\n",
      "155/155 [==============================] - 5s 30ms/step - loss: 3.5996 - accuracy: 0.7890 - lr: 7.9433e-05\n",
      "Epoch 40/50\n",
      "155/155 [==============================] - 5s 30ms/step - loss: 2.8488 - accuracy: 0.7949 - lr: 8.9125e-05\n",
      "Epoch 41/50\n",
      "155/155 [==============================] - 5s 30ms/step - loss: 2.1484 - accuracy: 0.8038 - lr: 1.0000e-04\n",
      "Epoch 42/50\n",
      "155/155 [==============================] - 5s 29ms/step - loss: 1.5423 - accuracy: 0.8131 - lr: 1.1220e-04\n",
      "Epoch 43/50\n",
      "155/155 [==============================] - 5s 30ms/step - loss: 1.0793 - accuracy: 0.8169 - lr: 1.2589e-04\n",
      "Epoch 44/50\n",
      "155/155 [==============================] - 4s 28ms/step - loss: 0.8281 - accuracy: 0.8250 - lr: 1.4125e-04\n",
      "Epoch 45/50\n",
      "155/155 [==============================] - 4s 29ms/step - loss: 0.7446 - accuracy: 0.8296 - lr: 1.5849e-04\n",
      "Epoch 46/50\n",
      "155/155 [==============================] - 5s 31ms/step - loss: 0.6890 - accuracy: 0.8296 - lr: 1.7783e-04\n",
      "Epoch 47/50\n",
      "155/155 [==============================] - 5s 31ms/step - loss: 0.6348 - accuracy: 0.8422 - lr: 1.9953e-04\n",
      "Epoch 48/50\n",
      "155/155 [==============================] - 5s 33ms/step - loss: 0.5809 - accuracy: 0.8506 - lr: 2.2387e-04\n",
      "Epoch 49/50\n",
      "155/155 [==============================] - 5s 32ms/step - loss: 0.5391 - accuracy: 0.8616 - lr: 2.5119e-04\n",
      "Epoch 50/50\n",
      "155/155 [==============================] - 5s 32ms/step - loss: 0.5148 - accuracy: 0.8662 - lr: 2.8184e-04\n"
     ]
    }
   ],
   "source": [
    "lr_history = adujst_learnig_rate_model()"
   ]
  },
  {
   "cell_type": "code",
   "execution_count": 28,
   "id": "efda382c",
   "metadata": {
    "execution": {
     "iopub.execute_input": "2023-06-03T17:22:47.932861Z",
     "iopub.status.busy": "2023-06-03T17:22:47.932254Z",
     "iopub.status.idle": "2023-06-03T17:22:48.718625Z",
     "shell.execute_reply": "2023-06-03T17:22:48.717120Z"
    },
    "papermill": {
     "duration": 1.019807,
     "end_time": "2023-06-03T17:22:48.721028",
     "exception": false,
     "start_time": "2023-06-03T17:22:47.701221",
     "status": "completed"
    },
    "tags": []
   },
   "outputs": [
    {
     "data": {
      "text/plain": [
       "(1e-06, 0.001, 0.0, 14.0)"
      ]
     },
     "execution_count": 28,
     "metadata": {},
     "output_type": "execute_result"
    },
    {
     "data": {
      "image/png": "[encoded data removed]",
      "text/plain": [
       "<Figure size 640x480 with 1 Axes>"
      ]
     },
     "metadata": {},
     "output_type": "display_data"
    }
   ],
   "source": [
    "#Plot learning rate vs loss\n",
    "plt.semilogx(lr_history.history['lr'], lr_history.history['loss'])\n",
    "plt.axis(plt.axis([1e-6, 1e-3, 0, 14]))"
   ]
  },
  {
   "cell_type": "code",
   "execution_count": 29,
   "id": "32721208",
   "metadata": {
    "execution": {
     "iopub.execute_input": "2023-06-03T17:22:49.183487Z",
     "iopub.status.busy": "2023-06-03T17:22:49.182855Z",
     "iopub.status.idle": "2023-06-03T17:22:49.187397Z",
     "shell.execute_reply": "2023-06-03T17:22:49.186814Z"
    },
    "papermill": {
     "duration": 0.238109,
     "end_time": "2023-06-03T17:22:49.189113",
     "exception": false,
     "start_time": "2023-06-03T17:22:48.951004",
     "status": "completed"
    },
    "tags": []
   },
   "outputs": [],
   "source": [
    "#learning rate = 1e-3 based on the above graph\n",
    "def create_model():\n",
    "    model = create_uncompiled_model()\n",
    "    model.compile(loss='binary_crossentropy',\n",
    "                  optimizer=keras.optimizers.Adam(learning_rate=3e-4),\n",
    "                  metrics=['accuracy'])\n",
    "    return model"
   ]
  },
  {
   "cell_type": "code",
   "execution_count": 30,
   "id": "e02b67ce",
   "metadata": {
    "execution": {
     "iopub.execute_input": "2023-06-03T17:22:49.655564Z",
     "iopub.status.busy": "2023-06-03T17:22:49.654989Z",
     "iopub.status.idle": "2023-06-03T17:24:42.646318Z",
     "shell.execute_reply": "2023-06-03T17:24:42.645170Z"
    },
    "papermill": {
     "duration": 113.227962,
     "end_time": "2023-06-03T17:24:42.648066",
     "exception": false,
     "start_time": "2023-06-03T17:22:49.420104",
     "status": "completed"
    },
    "tags": []
   },
   "outputs": [
    {
     "name": "stdout",
     "output_type": "stream",
     "text": [
      "Epoch 1/20\n",
      "155/155 [==============================] - 13s 47ms/step - loss: 11.0560 - accuracy: 0.5241 - val_loss: 8.4350 - val_accuracy: 0.5947\n",
      "Epoch 2/20\n",
      "155/155 [==============================] - 7s 44ms/step - loss: 6.3466 - accuracy: 0.5847 - val_loss: 4.4573 - val_accuracy: 0.6105\n",
      "Epoch 3/20\n",
      "155/155 [==============================] - 7s 43ms/step - loss: 3.0852 - accuracy: 0.6675 - val_loss: 1.9305 - val_accuracy: 0.7066\n",
      "Epoch 4/20\n",
      "155/155 [==============================] - 5s 33ms/step - loss: 1.2863 - accuracy: 0.7445 - val_loss: 0.8861 - val_accuracy: 0.7722\n",
      "Epoch 5/20\n",
      "155/155 [==============================] - 5s 32ms/step - loss: 0.8034 - accuracy: 0.7823 - val_loss: 0.7534 - val_accuracy: 0.7846\n",
      "Epoch 6/20\n",
      "155/155 [==============================] - 5s 33ms/step - loss: 0.6964 - accuracy: 0.8054 - val_loss: 0.6724 - val_accuracy: 0.7835\n",
      "Epoch 7/20\n",
      "155/155 [==============================] - 5s 34ms/step - loss: 0.6203 - accuracy: 0.8219 - val_loss: 0.6217 - val_accuracy: 0.7955\n",
      "Epoch 8/20\n",
      "155/155 [==============================] - 5s 32ms/step - loss: 0.5639 - accuracy: 0.8405 - val_loss: 0.6011 - val_accuracy: 0.8000\n",
      "Epoch 9/20\n",
      "155/155 [==============================] - 5s 32ms/step - loss: 0.5340 - accuracy: 0.8492 - val_loss: 0.5890 - val_accuracy: 0.8105\n",
      "Epoch 10/20\n",
      "155/155 [==============================] - 5s 32ms/step - loss: 0.5013 - accuracy: 0.8650 - val_loss: 0.5797 - val_accuracy: 0.8098\n",
      "Epoch 11/20\n",
      "155/155 [==============================] - 5s 32ms/step - loss: 0.4741 - accuracy: 0.8777 - val_loss: 0.5790 - val_accuracy: 0.8083\n",
      "Epoch 12/20\n",
      "155/155 [==============================] - 5s 31ms/step - loss: 0.4439 - accuracy: 0.8933 - val_loss: 0.5814 - val_accuracy: 0.8045\n",
      "Epoch 13/20\n",
      "155/155 [==============================] - 5s 33ms/step - loss: 0.4289 - accuracy: 0.8949 - val_loss: 0.5815 - val_accuracy: 0.8049\n",
      "Epoch 14/20\n",
      "155/155 [==============================] - 5s 32ms/step - loss: 0.4000 - accuracy: 0.9064 - val_loss: 0.5893 - val_accuracy: 0.8026\n",
      "Epoch 15/20\n",
      "155/155 [==============================] - 5s 32ms/step - loss: 0.3809 - accuracy: 0.9139 - val_loss: 0.5904 - val_accuracy: 0.8015\n",
      "Epoch 16/20\n",
      "155/155 [==============================] - 5s 32ms/step - loss: 0.3611 - accuracy: 0.9248 - val_loss: 0.5996 - val_accuracy: 0.8008\n",
      "Epoch 17/20\n",
      "155/155 [==============================] - 5s 32ms/step - loss: 0.3428 - accuracy: 0.9283 - val_loss: 0.6107 - val_accuracy: 0.7977\n",
      "Epoch 18/20\n",
      "155/155 [==============================] - 5s 32ms/step - loss: 0.3284 - accuracy: 0.9359 - val_loss: 0.6129 - val_accuracy: 0.8008\n",
      "Epoch 19/20\n",
      "155/155 [==============================] - 5s 33ms/step - loss: 0.3109 - accuracy: 0.9466 - val_loss: 0.6317 - val_accuracy: 0.7985\n",
      "Epoch 20/20\n",
      "155/155 [==============================] - 5s 34ms/step - loss: 0.2981 - accuracy: 0.9503 - val_loss: 0.6380 - val_accuracy: 0.7970\n"
     ]
    }
   ],
   "source": [
    "model = create_model()\n",
    "history = model.fit(x=train_pad_trunc_seq, y=train_labels,\\\n",
    "                    validation_data=(val_pad_trunc_seq, val_labels),\n",
    "                    batch_size=G.BATCH_SIZE, epochs=G.EPOCHS, shuffle=True)"
   ]
  },
  {
   "cell_type": "code",
   "execution_count": 31,
   "id": "47513b01",
   "metadata": {
    "execution": {
     "iopub.execute_input": "2023-06-03T17:24:43.303154Z",
     "iopub.status.busy": "2023-06-03T17:24:43.302807Z",
     "iopub.status.idle": "2023-06-03T17:24:43.308913Z",
     "shell.execute_reply": "2023-06-03T17:24:43.307779Z"
    },
    "papermill": {
     "duration": 0.331867,
     "end_time": "2023-06-03T17:24:43.310608",
     "exception": false,
     "start_time": "2023-06-03T17:24:42.978741",
     "status": "completed"
    },
    "tags": []
   },
   "outputs": [],
   "source": [
    "#ploting function \n",
    "def plot_results(epochs, train, val, message):\n",
    "    plt.plot(epochs, train, 'r')\n",
    "    plt.plot(epochs, val, 'b')\n",
    "    plt.xlabel('Epochs')\n",
    "    plt.ylabel(f\"{message}\")\n",
    "    plt.legend([f\"Train {message}\", f\"Validation {message}\"])\n",
    "    plt.show()"
   ]
  },
  {
   "cell_type": "code",
   "execution_count": 32,
   "id": "7848b58b",
   "metadata": {
    "execution": {
     "iopub.execute_input": "2023-06-03T17:24:44.060142Z",
     "iopub.status.busy": "2023-06-03T17:24:44.059818Z",
     "iopub.status.idle": "2023-06-03T17:24:44.460030Z",
     "shell.execute_reply": "2023-06-03T17:24:44.458527Z"
    },
    "papermill": {
     "duration": 0.733161,
     "end_time": "2023-06-03T17:24:44.461990",
     "exception": false,
     "start_time": "2023-06-03T17:24:43.728829",
     "status": "completed"
    },
    "tags": []
   },
   "outputs": [
    {
     "data": {
      "image/png": "[encoded data removed]",
      "text/plain": [
       "<Figure size 640x480 with 1 Axes>"
      ]
     },
     "metadata": {},
     "output_type": "display_data"
    },
    {
     "data": {
      "image/png": "[encoded data removed]",
      "text/plain": [
       "<Figure size 640x480 with 1 Axes>"
      ]
     },
     "metadata": {},
     "output_type": "display_data"
    }
   ],
   "source": [
    "#Plot loss and accuracy over the specidied epochs\n",
    "epochs = [*range(20)]\n",
    "loss = history.history['loss']\n",
    "val_loss = history.history['val_loss']\n",
    "plot_results(epochs, loss, val_loss, \"Loss\")\n",
    "\n",
    "acc = history.history['accuracy']\n",
    "val_acc = history.history['val_accuracy'] \n",
    "plot_results(epochs, acc, val_acc, \"Accuracy\")"
   ]
  },
  {
   "cell_type": "markdown",
   "id": "9e19be74",
   "metadata": {
    "papermill": {
     "duration": 0.324898,
     "end_time": "2023-06-03T17:24:45.118637",
     "exception": false,
     "start_time": "2023-06-03T17:24:44.793739",
     "status": "completed"
    },
    "tags": []
   },
   "source": [
    "***\n",
    "- the training example is 4948, which is very small and the result makes sense!\n",
    "- the validation examples:2665 \n",
    "- training accuracy : about 96%\n",
    "- validation accuracy : about 80% \n",
    "- it was working good but there is still overfitting. \n",
    "- The model suffers from overfitting and i tried to add regularizers and dropouts.\n",
    "- So the next avenue should be collecting more data that would denfinitely help the performance.\n",
    "***"
   ]
  },
  {
   "cell_type": "code",
   "execution_count": 33,
   "id": "a5a51c77",
   "metadata": {
    "execution": {
     "iopub.execute_input": "2023-06-03T17:24:45.828543Z",
     "iopub.status.busy": "2023-06-03T17:24:45.828198Z",
     "iopub.status.idle": "2023-06-03T17:24:45.835289Z",
     "shell.execute_reply": "2023-06-03T17:24:45.833710Z"
    },
    "papermill": {
     "duration": 0.396019,
     "end_time": "2023-06-03T17:24:45.837318",
     "exception": false,
     "start_time": "2023-06-03T17:24:45.441299",
     "status": "completed"
    },
    "tags": []
   },
   "outputs": [],
   "source": [
    "def predict(model, test_pad_trunc_seq, batch_size):\n",
    "    predictions = []\n",
    "    prediction_probas = model.predict(test_pad_trunc_seq, batch_size=batch_size).squeeze()\n",
    "    for prediction_proba in prediction_probas:\n",
    "        if prediction_proba > 0.5:\n",
    "            predictions.append(1)\n",
    "        else:\n",
    "            predictions.append(0)\n",
    "    return np.array(predictions)"
   ]
  },
  {
   "cell_type": "code",
   "execution_count": 34,
   "id": "161fc975",
   "metadata": {
    "execution": {
     "iopub.execute_input": "2023-06-03T17:24:46.491575Z",
     "iopub.status.busy": "2023-06-03T17:24:46.490307Z",
     "iopub.status.idle": "2023-06-03T17:24:46.505834Z",
     "shell.execute_reply": "2023-06-03T17:24:46.504591Z"
    },
    "papermill": {
     "duration": 0.343025,
     "end_time": "2023-06-03T17:24:46.508373",
     "exception": false,
     "start_time": "2023-06-03T17:24:46.165348",
     "status": "completed"
    },
    "tags": []
   },
   "outputs": [],
   "source": [
    "# lets assume that ''/kaggle/input/nlp-getting-started/sample_submission.csv' is the test label \n",
    "test_labels_df = pd.read_csv(os.path.join(base_dir, 'sample_submission.csv'))\n",
    "test_labels = np.array(test_labels_df['target'])"
   ]
  },
  {
   "cell_type": "code",
   "execution_count": 35,
   "id": "21cb0c75",
   "metadata": {
    "execution": {
     "iopub.execute_input": "2023-06-03T17:24:47.156021Z",
     "iopub.status.busy": "2023-06-03T17:24:47.155186Z",
     "iopub.status.idle": "2023-06-03T17:24:47.161597Z",
     "shell.execute_reply": "2023-06-03T17:24:47.160705Z"
    },
    "papermill": {
     "duration": 0.333274,
     "end_time": "2023-06-03T17:24:47.163602",
     "exception": false,
     "start_time": "2023-06-03T17:24:46.830328",
     "status": "completed"
    },
    "tags": []
   },
   "outputs": [
    {
     "data": {
      "text/plain": [
       "(3263,)"
      ]
     },
     "execution_count": 35,
     "metadata": {},
     "output_type": "execute_result"
    }
   ],
   "source": [
    "test_labels.shape"
   ]
  },
  {
   "cell_type": "code",
   "execution_count": 36,
   "id": "17f1cab0",
   "metadata": {
    "execution": {
     "iopub.execute_input": "2023-06-03T17:24:47.884430Z",
     "iopub.status.busy": "2023-06-03T17:24:47.883333Z",
     "iopub.status.idle": "2023-06-03T17:24:48.973543Z",
     "shell.execute_reply": "2023-06-03T17:24:48.971999Z"
    },
    "papermill": {
     "duration": 1.415355,
     "end_time": "2023-06-03T17:24:48.975812",
     "exception": false,
     "start_time": "2023-06-03T17:24:47.560457",
     "status": "completed"
    },
    "tags": []
   },
   "outputs": [
    {
     "name": "stdout",
     "output_type": "stream",
     "text": [
      "102/102 [==============================] - 1s 5ms/step\n",
      "The model has predicted 1979 correctly out of 3263 examples\n"
     ]
    }
   ],
   "source": [
    "#Despite the val(test) set is uniclass (i.e the data contains only 0 class)\n",
    "predictions = predict(model, test_pad_trunc_seq, G.BATCH_SIZE)\n",
    "print(\"The model has predicted {} correctly out of {} examples\".format(sum(predictions == test_labels), len(test_labels)))"
   ]
  },
  {
   "cell_type": "code",
   "execution_count": 37,
   "id": "0cdaecf8",
   "metadata": {
    "execution": {
     "iopub.execute_input": "2023-06-03T17:24:49.634775Z",
     "iopub.status.busy": "2023-06-03T17:24:49.633369Z",
     "iopub.status.idle": "2023-06-03T17:24:49.641024Z",
     "shell.execute_reply": "2023-06-03T17:24:49.640259Z"
    },
    "papermill": {
     "duration": 0.338818,
     "end_time": "2023-06-03T17:24:49.642765",
     "exception": false,
     "start_time": "2023-06-03T17:24:49.303947",
     "status": "completed"
    },
    "tags": []
   },
   "outputs": [
    {
     "data": {
      "text/plain": [
       "1284"
      ]
     },
     "execution_count": 37,
     "metadata": {},
     "output_type": "execute_result"
    }
   ],
   "source": [
    "#number of incorrectly predicted tweets\n",
    "len(test_pad_trunc_seq[predictions!=test_labels])"
   ]
  },
  {
   "cell_type": "code",
   "execution_count": 38,
   "id": "ad1eb943",
   "metadata": {
    "execution": {
     "iopub.execute_input": "2023-06-03T17:24:50.357249Z",
     "iopub.status.busy": "2023-06-03T17:24:50.356313Z",
     "iopub.status.idle": "2023-06-03T17:24:50.362489Z",
     "shell.execute_reply": "2023-06-03T17:24:50.361093Z"
    },
    "papermill": {
     "duration": 0.33189,
     "end_time": "2023-06-03T17:24:50.364621",
     "exception": false,
     "start_time": "2023-06-03T17:24:50.032731",
     "status": "completed"
    },
    "tags": []
   },
   "outputs": [],
   "source": [
    "incorect_prediction_index = np.arange(0, len(predictions))[predictions != test_labels]"
   ]
  },
  {
   "cell_type": "code",
   "execution_count": 39,
   "id": "b3fcb331",
   "metadata": {
    "execution": {
     "iopub.execute_input": "2023-06-03T17:24:51.018018Z",
     "iopub.status.busy": "2023-06-03T17:24:51.017611Z",
     "iopub.status.idle": "2023-06-03T17:24:51.127833Z",
     "shell.execute_reply": "2023-06-03T17:24:51.126244Z"
    },
    "papermill": {
     "duration": 0.438147,
     "end_time": "2023-06-03T17:24:51.130409",
     "exception": false,
     "start_time": "2023-06-03T17:24:50.692262",
     "status": "completed"
    },
    "tags": []
   },
   "outputs": [
    {
     "name": "stdout",
     "output_type": "stream",
     "text": [
      "tweet: new weapon cause <OOV> destruction <OOV> <OOV> <OOV> <OOV> <OOV> <OOV> <OOV> <OOV> <OOV> <OOV> <OOV> <OOV> <OOV> <OOV> <OOV>\n",
      "predicted label: Disaster tweet.\n",
      "Actual label: Normal tweet.\n",
      "\n",
      "\n",
      "\n",
      "tweet: sitting still <OOV> traffic like sitting war zone dont move police dont care <OOV> <OOV> <OOV> <OOV> <OOV> <OOV> <OOV>\n",
      "predicted label: Normal tweet.\n",
      "Actual label: Normal tweet.\n"
     ]
    }
   ],
   "source": [
    "#sample incorrect predictions \n",
    "sample_index = 0\n",
    "print(f\"tweet: {tokenizer.sequences_to_texts(val_pad_trunc_seq)[incorect_prediction_index[sample_index]]}\")\n",
    "print(f\"predicted label: {G.CLASS_LABELS[predictions[incorect_prediction_index[sample_index]]]} tweet.\")\n",
    "print(f\"Actual label: {G.CLASS_LABELS[test_labels[incorect_prediction_index[sample_index]]]} tweet.\")\n",
    "\n",
    "print('\\n\\n')\n",
    "\n",
    "sample_index = 100\n",
    "print(f\"tweet: {tokenizer.sequences_to_texts(val_pad_trunc_seq)[sample_index]}\")\n",
    "print(f\"predicted label: {G.CLASS_LABELS[predictions[sample_index]]} tweet.\")\n",
    "print(f\"Actual label: {G.CLASS_LABELS[test_labels[sample_index]]} tweet.\")"
   ]
  },
  {
   "cell_type": "markdown",
   "id": "864f5afd",
   "metadata": {
    "papermill": {
     "duration": 0.396959,
     "end_time": "2023-06-03T17:24:51.853100",
     "exception": false,
     "start_time": "2023-06-03T17:24:51.456141",
     "status": "completed"
    },
    "tags": []
   },
   "source": [
    "**As you see in the above first example in the above the sample_submission file has problem with labeling or my assumption was wrong!!!**"
   ]
  },
  {
   "cell_type": "markdown",
   "id": "ba39abc0",
   "metadata": {
    "papermill": {
     "duration": 0.3311,
     "end_time": "2023-06-03T17:24:52.508717",
     "exception": false,
     "start_time": "2023-06-03T17:24:52.177617",
     "status": "completed"
    },
    "tags": []
   },
   "source": [
    "****Conclusion**:\n",
    "\n",
    "The performance interms of accuracy is pretty good but can be improved with by collecting more training examples. Hence, the model suffered from overfitting and I have applied l1 regularizations and dropouts to reduce the impact of overfitting. I suggest more training examples than dealing more on ways to avoid overfitting beside data collection.\n",
    "\n",
    "results:\n",
    ">     - Training Accuracy: 96% \n",
    ">     - Validation Accuracy: about 80%\n",
    "\n",
    "Data problem:\n",
    ">     * Either the sample_submission is not the label for testing data or there must be problems while labeling the target.**"
   ]
  }
 ],
 "metadata": {
  "kernelspec": {
   "display_name": "Python 3",
   "language": "python",
   "name": "python3"
  },
  "language_info": {
   "codemirror_mode": {
    "name": "ipython",
    "version": 3
   },
   "file_extension": ".py",
   "mimetype": "text/x-python",
   "name": "python",
   "nbconvert_exporter": "python",
   "pygments_lexer": "ipython3",
   "version": "3.10.10"
  },
  "papermill": {
   "default_parameters": {},
   "duration": 441.900538,
   "end_time": "2023-06-03T17:24:55.508326",
   "environment_variables": {},
   "exception": null,
   "input_path": "__notebook__.ipynb",
   "output_path": "__notebook__.ipynb",
   "parameters": {},
   "start_time": "2023-06-03T17:17:33.607788",
   "version": "2.4.0"
  }
 },
 "nbformat": 4,
 "nbformat_minor": 5
}
